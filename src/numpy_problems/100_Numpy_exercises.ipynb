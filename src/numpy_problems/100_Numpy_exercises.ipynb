{
 "cells": [
  {
   "cell_type": "markdown",
   "id": "5a28b949",
   "metadata": {},
   "source": [
    "# 100 numpy exercises\n",
    "\n",
    "This is a collection of exercises that have been collected in the numpy mailing list, on stack overflow\n",
    "and in the numpy documentation. The goal of this collection is to offer a quick reference for both old\n",
    "and new users but also to provide a set of exercises for those who teach.\n",
    "\n",
    "\n",
    "If you find an error or think you've a better way to solve some of them, feel\n",
    "free to open an issue at <https://github.com/rougier/numpy-100>."
   ]
  },
  {
   "cell_type": "markdown",
   "id": "3f7a87ec",
   "metadata": {},
   "source": [
    "File automatically generated. See the documentation to update questions/answers/hints programmatically."
   ]
  },
  {
   "cell_type": "markdown",
   "id": "c00df986",
   "metadata": {},
   "source": [
    "#### 1. Import the numpy package under the name `np` (★☆☆)"
   ]
  },
  {
   "cell_type": "code",
   "execution_count": 2,
   "id": "35bde95c",
   "metadata": {},
   "outputs": [],
   "source": [
    "import numpy as np"
   ]
  },
  {
   "cell_type": "markdown",
   "id": "b555a89f",
   "metadata": {},
   "source": [
    "#### 2. Print the numpy version and the configuration (★☆☆)"
   ]
  },
  {
   "cell_type": "code",
   "execution_count": 2,
   "id": "2c9d363d",
   "metadata": {},
   "outputs": [
    {
     "data": {
      "text/plain": [
       "'2.3.4'"
      ]
     },
     "execution_count": 2,
     "metadata": {},
     "output_type": "execute_result"
    }
   ],
   "source": [
    "np.__version__"
   ]
  },
  {
   "cell_type": "code",
   "execution_count": 8,
   "id": "a3601568",
   "metadata": {},
   "outputs": [
    {
     "name": "stdout",
     "output_type": "stream",
     "text": [
      "Build Dependencies:\n",
      "  blas:\n",
      "    detection method: system\n",
      "    found: true\n",
      "    include directory: unknown\n",
      "    lib directory: unknown\n",
      "    name: accelerate\n",
      "    openblas configuration: unknown\n",
      "    pc file directory: unknown\n",
      "    version: unknown\n",
      "  lapack:\n",
      "    detection method: system\n",
      "    found: true\n",
      "    include directory: unknown\n",
      "    lib directory: unknown\n",
      "    name: accelerate\n",
      "    openblas configuration: unknown\n",
      "    pc file directory: unknown\n",
      "    version: unknown\n",
      "Compilers:\n",
      "  c:\n",
      "    commands: cc\n",
      "    linker: ld64\n",
      "    name: clang\n",
      "    version: 15.0.0\n",
      "  c++:\n",
      "    commands: c++\n",
      "    linker: ld64\n",
      "    name: clang\n",
      "    version: 15.0.0\n",
      "  cython:\n",
      "    commands: cython\n",
      "    linker: cython\n",
      "    name: cython\n",
      "    version: 3.1.4\n",
      "Machine Information:\n",
      "  build:\n",
      "    cpu: aarch64\n",
      "    endian: little\n",
      "    family: aarch64\n",
      "    system: darwin\n",
      "  host:\n",
      "    cpu: aarch64\n",
      "    endian: little\n",
      "    family: aarch64\n",
      "    system: darwin\n",
      "Python Information:\n",
      "  path: /private/var/folders/y6/nj790rtn62lfktb1sh__79hc0000gn/T/build-env-krvc8f61/bin/python\n",
      "  version: '3.12'\n",
      "SIMD Extensions:\n",
      "  baseline:\n",
      "  - NEON\n",
      "  - NEON_FP16\n",
      "  - NEON_VFPV4\n",
      "  - ASIMD\n",
      "  found:\n",
      "  - ASIMDHP\n",
      "  not found:\n",
      "  - ASIMDFHM\n",
      "\n"
     ]
    }
   ],
   "source": [
    "np.show_config()"
   ]
  },
  {
   "cell_type": "markdown",
   "id": "e2713407",
   "metadata": {},
   "source": [
    "#### 3. Create a null vector of size 10 (★☆☆)"
   ]
  },
  {
   "cell_type": "code",
   "execution_count": null,
   "id": "6df2f6db",
   "metadata": {},
   "outputs": [
    {
     "name": "stdout",
     "output_type": "stream",
     "text": [
      "[0. 0. 0. 0. 0. 0. 0. 0. 0. 0.]\n",
      "10\n"
     ]
    }
   ],
   "source": [
    "x = np.zeros(shape=(10))  # np.zeros(10)\n",
    "print(x)\n",
    "print(len(x))"
   ]
  },
  {
   "cell_type": "markdown",
   "id": "5a09554f",
   "metadata": {},
   "source": [
    "#### 4. How to find the memory size of any array (★☆☆)"
   ]
  },
  {
   "cell_type": "code",
   "execution_count": 18,
   "id": "c55a2a00",
   "metadata": {},
   "outputs": [
    {
     "name": "stdout",
     "output_type": "stream",
     "text": [
      "8 80\n"
     ]
    }
   ],
   "source": [
    "a = np.array([1], dtype='int')\n",
    "\n",
    "print(a.size * a.itemsize, x.size * x.itemsize)"
   ]
  },
  {
   "cell_type": "markdown",
   "id": "4720d438",
   "metadata": {},
   "source": [
    "#### 5. How to get the documentation of the numpy add function from the command line? (★☆☆)"
   ]
  },
  {
   "cell_type": "code",
   "execution_count": 24,
   "id": "d9e2277e",
   "metadata": {},
   "outputs": [
    {
     "name": "stdout",
     "output_type": "stream",
     "text": [
      "add(x1, x2, /, out=None, *, where=True, casting='same_kind', order='K', dtype=None, subok=True[, signature])\n",
      "\n",
      "Add arguments element-wise.\n",
      "\n",
      "Parameters\n",
      "----------\n",
      "x1, x2 : array_like\n",
      "    The arrays to be added.\n",
      "    If ``x1.shape != x2.shape``, they must be broadcastable to a common\n",
      "    shape (which becomes the shape of the output).\n",
      "out : ndarray, None, or tuple of ndarray and None, optional\n",
      "    A location into which the result is stored. If provided, it must have\n",
      "    a shape that the inputs broadcast to. If not provided or None,\n",
      "    a freshly-allocated array is returned. A tuple (possible only as a\n",
      "    keyword argument) must have length equal to the number of outputs.\n",
      "where : array_like, optional\n",
      "    This condition is broadcast over the input. At locations where the\n",
      "    condition is True, the `out` array will be set to the ufunc result.\n",
      "    Elsewhere, the `out` array will retain its original value.\n",
      "    Note that if an uninitialized `out` array is created via the default\n",
      "    ``out=None``, locations within it where the condition is False will\n",
      "    remain uninitialized.\n",
      "**kwargs\n",
      "    For other keyword-only arguments, see the\n",
      "    :ref:`ufunc docs <ufuncs.kwargs>`.\n",
      "\n",
      "Returns\n",
      "-------\n",
      "add : ndarray or scalar\n",
      "    The sum of `x1` and `x2`, element-wise.\n",
      "    This is a scalar if both `x1` and `x2` are scalars.\n",
      "\n",
      "Notes\n",
      "-----\n",
      "Equivalent to `x1` + `x2` in terms of array broadcasting.\n",
      "\n",
      "Examples\n",
      "--------\n",
      ">>> import numpy as np\n",
      ">>> np.add(1.0, 4.0)\n",
      "5.0\n",
      ">>> x1 = np.arange(9.0).reshape((3, 3))\n",
      ">>> x2 = np.arange(3.0)\n",
      ">>> np.add(x1, x2)\n",
      "array([[  0.,   2.,   4.],\n",
      "       [  3.,   5.,   7.],\n",
      "       [  6.,   8.,  10.]])\n",
      "\n",
      "The ``+`` operator can be used as a shorthand for ``np.add`` on ndarrays.\n",
      "\n",
      ">>> x1 = np.arange(9.0).reshape((3, 3))\n",
      ">>> x2 = np.arange(3.0)\n",
      ">>> x1 + x2\n",
      "array([[ 0.,  2.,  4.],\n",
      "       [ 3.,  5.,  7.],\n",
      "       [ 6.,  8., 10.]])\n"
     ]
    }
   ],
   "source": [
    "# print(np.add.__doc__)\n",
    "\n",
    "! python -c \"import numpy as np; np.info(np.add)\""
   ]
  },
  {
   "cell_type": "code",
   "execution_count": 25,
   "id": "dff7bdb6",
   "metadata": {},
   "outputs": [
    {
     "name": "stdout",
     "output_type": "stream",
     "text": [
      "add(x1, x2, /, out=None, *, where=True, casting='same_kind', order='K', dtype=None, subok=True[, signature])\n",
      "\n",
      "Add arguments element-wise.\n",
      "\n",
      "Parameters\n",
      "----------\n",
      "x1, x2 : array_like\n",
      "    The arrays to be added.\n",
      "    If ``x1.shape != x2.shape``, they must be broadcastable to a common\n",
      "    shape (which becomes the shape of the output).\n",
      "out : ndarray, None, or tuple of ndarray and None, optional\n",
      "    A location into which the result is stored. If provided, it must have\n",
      "    a shape that the inputs broadcast to. If not provided or None,\n",
      "    a freshly-allocated array is returned. A tuple (possible only as a\n",
      "    keyword argument) must have length equal to the number of outputs.\n",
      "where : array_like, optional\n",
      "    This condition is broadcast over the input. At locations where the\n",
      "    condition is True, the `out` array will be set to the ufunc result.\n",
      "    Elsewhere, the `out` array will retain its original value.\n",
      "    Note that if an uninitialized `out` array is created via the default\n",
      "    ``out=None``, locations within it where the condition is False will\n",
      "    remain uninitialized.\n",
      "**kwargs\n",
      "    For other keyword-only arguments, see the\n",
      "    :ref:`ufunc docs <ufuncs.kwargs>`.\n",
      "\n",
      "Returns\n",
      "-------\n",
      "add : ndarray or scalar\n",
      "    The sum of `x1` and `x2`, element-wise.\n",
      "    This is a scalar if both `x1` and `x2` are scalars.\n",
      "\n",
      "Notes\n",
      "-----\n",
      "Equivalent to `x1` + `x2` in terms of array broadcasting.\n",
      "\n",
      "Examples\n",
      "--------\n",
      ">>> import numpy as np\n",
      ">>> np.add(1.0, 4.0)\n",
      "5.0\n",
      ">>> x1 = np.arange(9.0).reshape((3, 3))\n",
      ">>> x2 = np.arange(3.0)\n",
      ">>> np.add(x1, x2)\n",
      "array([[  0.,   2.,   4.],\n",
      "       [  3.,   5.,   7.],\n",
      "       [  6.,   8.,  10.]])\n",
      "\n",
      "The ``+`` operator can be used as a shorthand for ``np.add`` on ndarrays.\n",
      "\n",
      ">>> x1 = np.arange(9.0).reshape((3, 3))\n",
      ">>> x2 = np.arange(3.0)\n",
      ">>> x1 + x2\n",
      "array([[ 0.,  2.,  4.],\n",
      "       [ 3.,  5.,  7.],\n",
      "       [ 6.,  8., 10.]])\n"
     ]
    }
   ],
   "source": [
    "np.info(np.add)"
   ]
  },
  {
   "cell_type": "markdown",
   "id": "b812d322",
   "metadata": {},
   "source": [
    "#### 6. Create a null vector of size 10 but the fifth value which is 1 (★☆☆)"
   ]
  },
  {
   "cell_type": "code",
   "execution_count": 26,
   "id": "9f95cedf",
   "metadata": {},
   "outputs": [
    {
     "data": {
      "text/plain": [
       "array([0., 0., 0., 0., 1., 0., 0., 0., 0., 0.])"
      ]
     },
     "execution_count": 26,
     "metadata": {},
     "output_type": "execute_result"
    }
   ],
   "source": [
    "nulls = np.zeros(10)\n",
    "nulls[4] = 1\n",
    "\n",
    "nulls"
   ]
  },
  {
   "cell_type": "markdown",
   "id": "a348f2a8",
   "metadata": {},
   "source": [
    "#### 7. Create a vector with values ranging from 10 to 49 (★☆☆)"
   ]
  },
  {
   "cell_type": "code",
   "execution_count": 30,
   "id": "5a68fd5b",
   "metadata": {},
   "outputs": [
    {
     "data": {
      "text/plain": [
       "array([10, 11, 12, 13, 14, 15, 16, 17, 18, 19, 20, 21, 22, 23, 24, 25, 26,\n",
       "       27, 28, 29, 30, 31, 32, 33, 34, 35, 36, 37, 38, 39, 40, 41, 42, 43,\n",
       "       44, 45, 46, 47, 48, 49])"
      ]
     },
     "execution_count": 30,
     "metadata": {},
     "output_type": "execute_result"
    }
   ],
   "source": [
    "nums = np.arange(start=10, stop=50)\n",
    "nums"
   ]
  },
  {
   "cell_type": "markdown",
   "id": "2f4ca4c0",
   "metadata": {},
   "source": [
    "#### 8. Reverse a vector (first element becomes last) (★☆☆)"
   ]
  },
  {
   "cell_type": "code",
   "execution_count": 32,
   "id": "1892e775",
   "metadata": {},
   "outputs": [
    {
     "data": {
      "text/plain": [
       "array([49, 48, 47, 46, 45, 44, 43, 42, 41, 40, 39, 38, 37, 36, 35, 34, 33,\n",
       "       32, 31, 30, 29, 28, 27, 26, 25, 24, 23, 22, 21, 20, 19, 18, 17, 16,\n",
       "       15, 14, 13, 12, 11, 10])"
      ]
     },
     "execution_count": 32,
     "metadata": {},
     "output_type": "execute_result"
    }
   ],
   "source": [
    "reversed_nums = nums[::-1]\n",
    "reversed_nums"
   ]
  },
  {
   "cell_type": "markdown",
   "id": "31381832",
   "metadata": {},
   "source": [
    "#### 9. Create a 3x3 matrix with values ranging from 0 to 8 (★☆☆)"
   ]
  },
  {
   "cell_type": "code",
   "execution_count": 38,
   "id": "0154f251",
   "metadata": {},
   "outputs": [
    {
     "data": {
      "text/plain": [
       "array([[0, 1, 2],\n",
       "       [3, 4, 5],\n",
       "       [6, 7, 8]])"
      ]
     },
     "execution_count": 38,
     "metadata": {},
     "output_type": "execute_result"
    }
   ],
   "source": [
    "mat = np.arange(0, 9).reshape(3, 3)\n",
    "mat"
   ]
  },
  {
   "cell_type": "markdown",
   "id": "8c353e84",
   "metadata": {},
   "source": [
    "#### 10. Find indices of non-zero elements from [1,2,0,0,4,0] (★☆☆)"
   ]
  },
  {
   "cell_type": "code",
   "execution_count": 44,
   "id": "da3495c3",
   "metadata": {},
   "outputs": [
    {
     "data": {
      "text/plain": [
       "(array([0, 1, 4]),)"
      ]
     },
     "execution_count": 44,
     "metadata": {},
     "output_type": "execute_result"
    }
   ],
   "source": [
    "arr = np.array([1,2,0,0,4,0])\n",
    "\n",
    "indices = np.where(arr != 0)\n",
    "indices"
   ]
  },
  {
   "cell_type": "code",
   "execution_count": 45,
   "id": "529b88cc",
   "metadata": {},
   "outputs": [
    {
     "data": {
      "text/plain": [
       "(array([0, 1, 4]),)"
      ]
     },
     "execution_count": 45,
     "metadata": {},
     "output_type": "execute_result"
    }
   ],
   "source": [
    "# built-in\n",
    "\n",
    "np.nonzero(arr)"
   ]
  },
  {
   "cell_type": "markdown",
   "id": "a26ac749",
   "metadata": {},
   "source": [
    "#### 11. Create a 3x3 identity matrix (★☆☆)"
   ]
  },
  {
   "cell_type": "code",
   "execution_count": 55,
   "id": "3e33feda",
   "metadata": {},
   "outputs": [
    {
     "name": "stdout",
     "output_type": "stream",
     "text": [
      "[[1. 0. 0.]\n",
      " [0. 1. 0.]\n",
      " [0. 0. 1.]]\n"
     ]
    }
   ],
   "source": [
    "# identity_mat = np.identity(3)\n",
    "identity_mat = np.eye(3)\n",
    "\n",
    "print(identity_mat)"
   ]
  },
  {
   "cell_type": "code",
   "execution_count": 56,
   "id": "dd54829a",
   "metadata": {},
   "outputs": [
    {
     "name": "stdout",
     "output_type": "stream",
     "text": [
      " eye(N, M=None, k=0, dtype=<class 'float'>, order='C', *, device=None,\n",
      "     like=None)\n",
      "\n",
      "Return a 2-D array with ones on the diagonal and zeros elsewhere.\n",
      "\n",
      "Parameters\n",
      "----------\n",
      "N : int\n",
      "  Number of rows in the output.\n",
      "M : int, optional\n",
      "  Number of columns in the output. If None, defaults to `N`.\n",
      "k : int, optional\n",
      "  Index of the diagonal: 0 (the default) refers to the main diagonal,\n",
      "  a positive value refers to an upper diagonal, and a negative value\n",
      "  to a lower diagonal.\n",
      "dtype : data-type, optional\n",
      "  Data-type of the returned array.\n",
      "order : {'C', 'F'}, optional\n",
      "    Whether the output should be stored in row-major (C-style) or\n",
      "    column-major (Fortran-style) order in memory.\n",
      "device : str, optional\n",
      "    The device on which to place the created array. Default: None.\n",
      "    For Array-API interoperability only, so must be ``\"cpu\"`` if passed.\n",
      "\n",
      "    .. versionadded:: 2.0.0\n",
      "like : array_like, optional\n",
      "    Reference object to allow the creation of arrays which are not\n",
      "    NumPy arrays. If an array-like passed in as ``like`` supports\n",
      "    the ``__array_function__`` protocol, the result will be defined\n",
      "    by it. In this case, it ensures the creation of an array object\n",
      "    compatible with that passed in via this argument.\n",
      "\n",
      "    .. versionadded:: 1.20.0\n",
      "\n",
      "Returns\n",
      "-------\n",
      "I : ndarray of shape (N,M)\n",
      "  An array where all elements are equal to zero, except for the `k`-th\n",
      "  diagonal, whose values are equal to one.\n",
      "\n",
      "See Also\n",
      "--------\n",
      "identity : (almost) equivalent function\n",
      "diag : diagonal 2-D array from a 1-D array specified by the user.\n",
      "\n",
      "Examples\n",
      "--------\n",
      ">>> import numpy as np\n",
      ">>> np.eye(2, dtype=int)\n",
      "array([[1, 0],\n",
      "       [0, 1]])\n",
      ">>> np.eye(3, k=1)\n",
      "array([[0.,  1.,  0.],\n",
      "       [0.,  0.,  1.],\n",
      "       [0.,  0.,  0.]])\n"
     ]
    }
   ],
   "source": [
    "np.info(np.eye)"
   ]
  },
  {
   "cell_type": "markdown",
   "id": "3a293379",
   "metadata": {},
   "source": [
    "#### 12. Create a 3x3x3 array with random values (★☆☆)"
   ]
  },
  {
   "cell_type": "code",
   "execution_count": 67,
   "id": "2da08152",
   "metadata": {},
   "outputs": [
    {
     "data": {
      "text/plain": [
       "array([[[0.57314079, 0.6053847 , 0.81604051],\n",
       "        [0.37100194, 0.15986435, 0.72807533],\n",
       "        [0.62289703, 0.03398804, 0.10648266]],\n",
       "\n",
       "       [[0.74566476, 0.49031593, 0.46895778],\n",
       "        [0.6202886 , 0.32231698, 0.18607289],\n",
       "        [0.45887747, 0.32951264, 0.46868689]],\n",
       "\n",
       "       [[0.00105181, 0.30929716, 0.52147102],\n",
       "        [0.79813065, 0.14596524, 0.58670549],\n",
       "        [0.6776558 , 0.93290637, 0.23503515]]])"
      ]
     },
     "execution_count": 67,
     "metadata": {},
     "output_type": "execute_result"
    }
   ],
   "source": [
    "randoms = np.random.random(size=(3, 3, 3))\n",
    "randoms"
   ]
  },
  {
   "cell_type": "code",
   "execution_count": 63,
   "id": "a8ba7df6",
   "metadata": {},
   "outputs": [
    {
     "name": "stdout",
     "output_type": "stream",
     "text": [
      " random(size=None)\n",
      "\n",
      "random(size=None)\n",
      "\n",
      "Return random floats in the half-open interval [0.0, 1.0). Alias for\n",
      "`random_sample` to ease forward-porting to the new random API.\n"
     ]
    }
   ],
   "source": [
    "np.info(np.random.random)"
   ]
  },
  {
   "cell_type": "markdown",
   "id": "e3faa924",
   "metadata": {},
   "source": [
    "#### 13. Create a 10x10 array with random values and find the minimum and maximum values (★☆☆)"
   ]
  },
  {
   "cell_type": "code",
   "execution_count": 72,
   "id": "e9fb3793",
   "metadata": {},
   "outputs": [
    {
     "name": "stdout",
     "output_type": "stream",
     "text": [
      "[[0.22323539 0.09334814 0.8812998  0.84372221 0.8975154  0.75629494\n",
      "  0.79815383 0.72235116 0.71709291 0.70641593]\n",
      " [0.22493094 0.9456477  0.36903566 0.9569429  0.15813437 0.88071753\n",
      "  0.65471983 0.50893048 0.18153469 0.09917014]\n",
      " [0.08886465 0.61901262 0.10909727 0.08138033 0.4521022  0.85511555\n",
      "  0.24076011 0.17832064 0.84337114 0.91989174]\n",
      " [0.53610319 0.58918297 0.7485366  0.12867609 0.17566253 0.09419998\n",
      "  0.52037519 0.78996105 0.91554163 0.6206956 ]\n",
      " [0.82105709 0.97188124 0.36734041 0.47050821 0.14623471 0.10770663\n",
      "  0.65552421 0.20369257 0.97916267 0.36022864]\n",
      " [0.30730205 0.89294409 0.59600006 0.12300443 0.42035444 0.71625452\n",
      "  0.07839636 0.95223991 0.62440471 0.85234568]\n",
      " [0.77498535 0.10750577 0.39897427 0.73500613 0.55282595 0.17898985\n",
      "  0.33000654 0.87179181 0.00336262 0.0898785 ]\n",
      " [0.30527164 0.67451274 0.1279797  0.6930968  0.57292671 0.12570333\n",
      "  0.6297166  0.23028103 0.78134773 0.80925887]\n",
      " [0.6520793  0.05411355 0.86951373 0.16495684 0.40138089 0.56651183\n",
      "  0.01586638 0.007999   0.91341674 0.51971333]\n",
      " [0.89879963 0.25595659 0.11464116 0.32589797 0.70132056 0.22376404\n",
      "  0.07220407 0.58642121 0.48216642 0.60527334]]\n",
      "0.003362623183658875\n",
      "0.979162667581131\n"
     ]
    }
   ],
   "source": [
    "rand_mat = np.random.random(size=(10, 10))\n",
    "\n",
    "print(rand_mat)\n",
    "print(np.min(rand_mat))\n",
    "print(np.max(rand_mat))"
   ]
  },
  {
   "cell_type": "code",
   "execution_count": 73,
   "id": "918072e9",
   "metadata": {},
   "outputs": [
    {
     "name": "stdout",
     "output_type": "stream",
     "text": [
      "[[34 29  1 11  9 19 31 46  1 45]\n",
      " [28  9 28 49 21 22  5 31  7  5]\n",
      " [44 35 46 36 47 26 19 44 13 13]\n",
      " [14 44 36 29 41  3  3 41 42 21]\n",
      " [20  3 25 48 41 15 13 47 34  3]\n",
      " [27 26  1 15 31 34 49  6 12 15]\n",
      " [39 21 15 25 27 37  4 24 37 49]\n",
      " [26 40 24 28 41  6 11 16 41 47]\n",
      " [47 47 40 49  2 21 14 10  1 47]\n",
      " [36 40  2  1 42 34 13 27  8 41]]\n",
      "1\n",
      "49\n"
     ]
    }
   ],
   "source": [
    "rand_mat = np.random.randint(1, 50, size=(10, 10))\n",
    "\n",
    "print(rand_mat)\n",
    "print(np.min(rand_mat))\n",
    "print(np.max(rand_mat))"
   ]
  },
  {
   "cell_type": "markdown",
   "id": "317cb8d1",
   "metadata": {},
   "source": [
    "#### 14. Create a random vector of size 30 and find the mean value (★☆☆)"
   ]
  },
  {
   "cell_type": "code",
   "execution_count": 78,
   "id": "4ea995d6",
   "metadata": {},
   "outputs": [
    {
     "name": "stdout",
     "output_type": "stream",
     "text": [
      "[1 4 4 8 7 1 8 2 7 4 6 1 3 2 8 8 5 2 7 1 1 9 7 3 7 3 6 7 2 4]\n",
      "4.6\n",
      "4.6\n"
     ]
    }
   ],
   "source": [
    "z = np.random.randint(1, 10, size=30)\n",
    "print(z)\n",
    "print(np.mean(z))\n",
    "print(z.mean())"
   ]
  },
  {
   "cell_type": "markdown",
   "id": "b8dee0f2",
   "metadata": {},
   "source": [
    "#### 15. Create a 2d array with 1 on the border and 0 inside (★☆☆)"
   ]
  },
  {
   "cell_type": "code",
   "execution_count": 90,
   "id": "7054464b",
   "metadata": {},
   "outputs": [
    {
     "data": {
      "text/plain": [
       "array([[1., 1., 1., 1., 1.],\n",
       "       [1., 0., 0., 0., 1.],\n",
       "       [1., 0., 0., 0., 1.],\n",
       "       [1., 0., 0., 0., 1.],\n",
       "       [1., 1., 1., 1., 1.]])"
      ]
     },
     "execution_count": 90,
     "metadata": {},
     "output_type": "execute_result"
    }
   ],
   "source": [
    "\"\"\"\n",
    "[111]\n",
    "[101]\n",
    "[111]\n",
    "\"\"\"\n",
    "\n",
    "size = 5\n",
    "x = np.ones(shape=(size,size))\n",
    "x[1:-1, 1:-1] = 0\n",
    "\n",
    "x"
   ]
  },
  {
   "cell_type": "markdown",
   "id": "1476f45f",
   "metadata": {},
   "source": [
    "#### 16. How to add a border (filled with 0's) around an existing array? (★☆☆)"
   ]
  },
  {
   "cell_type": "code",
   "execution_count": 101,
   "id": "4f0212af",
   "metadata": {},
   "outputs": [
    {
     "data": {
      "text/plain": [
       "array([[0, 0, 0, 0, 0],\n",
       "       [0, 2, 2, 5, 0],\n",
       "       [0, 6, 3, 2, 0],\n",
       "       [0, 2, 6, 6, 0],\n",
       "       [0, 0, 0, 0, 0]])"
      ]
     },
     "execution_count": 101,
     "metadata": {},
     "output_type": "execute_result"
    }
   ],
   "source": [
    "size = 3\n",
    "\n",
    "arr = np.random.randint(2,7, size=(size,size))\n",
    "arr = np.pad(arr, pad_width=1, mode=\"constant\", constant_values=0)\n",
    "\n",
    "arr"
   ]
  },
  {
   "cell_type": "markdown",
   "id": "52844dc7",
   "metadata": {},
   "source": [
    "#### 17. What is the result of the following expression? (★☆☆)\n",
    "```python\n",
    "0 * np.nan\n",
    "np.nan == np.nan\n",
    "np.inf > np.nan\n",
    "np.nan - np.nan\n",
    "np.nan in set([np.nan])\n",
    "0.3 == 3 * 0.1\n",
    "```"
   ]
  },
  {
   "cell_type": "code",
   "execution_count": null,
   "id": "cfdb7352",
   "metadata": {},
   "outputs": [
    {
     "name": "stdout",
     "output_type": "stream",
     "text": [
      "nan\n",
      "False\n",
      "False\n",
      "nan\n",
      "True\n",
      "False\n"
     ]
    }
   ],
   "source": [
    "\"\"\"\n",
    "nan\n",
    "false\n",
    "false\n",
    "nan\n",
    "true\n",
    "false\n",
    "\"\"\"\n",
    "\n",
    "print(0 * np.nan)\n",
    "print(np.nan == np.nan)\n",
    "print(np.inf > np.nan)\n",
    "print(np.nan - np.nan)\n",
    "print(np.nan in set([np.nan]))\n",
    "print(0.3 == 3 * 0.1)"
   ]
  },
  {
   "cell_type": "markdown",
   "id": "9801c961",
   "metadata": {},
   "source": [
    "#### 18. Create a 5x5 matrix with values 1,2,3,4 just below the diagonal (★☆☆)"
   ]
  },
  {
   "cell_type": "code",
   "execution_count": null,
   "id": "4e97651a",
   "metadata": {},
   "outputs": [
    {
     "data": {
      "text/plain": [
       "array([[0., 0., 0., 0., 0.],\n",
       "       [1., 0., 0., 0., 0.],\n",
       "       [0., 2., 0., 0., 0.],\n",
       "       [0., 0., 3., 0., 0.],\n",
       "       [0., 0., 0., 4., 0.]])"
      ]
     },
     "execution_count": 105,
     "metadata": {},
     "output_type": "execute_result"
    }
   ],
   "source": [
    "mat = np.zeros(shape=(5,5))\n",
    "\n",
    "\"\"\"\n",
    "1 at row 1, col 0\n",
    "2 at row 2, col 1\n",
    "3 at row 3, col 2\n",
    "4 at row 4, col 3\n",
    "\"\"\"\n",
    "\n",
    "arr = np.arange(1, 5)\n",
    "\n",
    "# broadcasting\n",
    "mat[arr, arr-1] = arr\n",
    "\n",
    "mat"
   ]
  },
  {
   "cell_type": "code",
   "execution_count": 118,
   "id": "276ce8eb",
   "metadata": {},
   "outputs": [
    {
     "data": {
      "text/plain": [
       "array([[0, 0, 0, 0, 0],\n",
       "       [1, 0, 0, 0, 0],\n",
       "       [0, 2, 0, 0, 0],\n",
       "       [0, 0, 3, 0, 0],\n",
       "       [0, 0, 0, 4, 0]])"
      ]
     },
     "execution_count": 118,
     "metadata": {},
     "output_type": "execute_result"
    }
   ],
   "source": [
    "# another easy way\n",
    "\n",
    "arr = np.arange(1, 5)\n",
    "\n",
    "z = np.diag(arr, k=-1)\n",
    "z"
   ]
  },
  {
   "cell_type": "markdown",
   "id": "3dc05e9f",
   "metadata": {},
   "source": [
    "#### 19. Create a 8x8 matrix and fill it with a checkerboard pattern (★☆☆)"
   ]
  },
  {
   "cell_type": "code",
   "execution_count": null,
   "id": "0b100b85",
   "metadata": {},
   "outputs": [
    {
     "data": {
      "text/plain": [
       "array([[0., 1., 0., 1., 0., 1., 0., 1.],\n",
       "       [1., 0., 1., 0., 1., 0., 1., 0.],\n",
       "       [0., 1., 0., 1., 0., 1., 0., 1.],\n",
       "       [1., 0., 1., 0., 1., 0., 1., 0.],\n",
       "       [0., 1., 0., 1., 0., 1., 0., 1.],\n",
       "       [1., 0., 1., 0., 1., 0., 1., 0.],\n",
       "       [0., 1., 0., 1., 0., 1., 0., 1.],\n",
       "       [1., 0., 1., 0., 1., 0., 1., 0.]])"
      ]
     },
     "execution_count": 129,
     "metadata": {},
     "output_type": "execute_result"
    }
   ],
   "source": [
    "checkerboard = np.zeros(shape=(8, 8))\n",
    "\n",
    "\"\"\"\n",
    "0 2 4 6 => 1's.   row = 0\n",
    "1 3 5 7 => 1's.   row = 1 \n",
    "0 2 4 6 => 1's    row = 2\n",
    "\"\"\"\n",
    "\n",
    "arr = np.arange(8)\n",
    "\n",
    "checkerboard[::2, 1::2] = 1\n",
    "checkerboard[1::2, ::2] = 1\n",
    "\n",
    "checkerboard"
   ]
  },
  {
   "cell_type": "markdown",
   "id": "d8e941b6",
   "metadata": {},
   "source": [
    "#### 20. Consider a (6,7,8) shape array, what is the index (x,y,z) of the 100th element? (★☆☆)"
   ]
  },
  {
   "cell_type": "code",
   "execution_count": 131,
   "id": "b3bc1fcb",
   "metadata": {},
   "outputs": [
    {
     "name": "stdout",
     "output_type": "stream",
     "text": [
      "(np.int64(1), np.int64(5), np.int64(3))\n"
     ]
    }
   ],
   "source": [
    "arr = np.random.randint(1, 10, size=(6, 7, 8))\n",
    "\n",
    "# (1,5,3)\n",
    "\n",
    "arr[1,5,3]\n",
    "\n",
    "print(np.unravel_index(99, shape=(6, 7, 8)))"
   ]
  },
  {
   "cell_type": "markdown",
   "id": "bf3b8ab3",
   "metadata": {},
   "source": [
    "#### 21. Create a checkerboard 8x8 matrix using the tile function (★☆☆)"
   ]
  },
  {
   "cell_type": "code",
   "execution_count": 137,
   "id": "eb15c681",
   "metadata": {},
   "outputs": [
    {
     "data": {
      "text/plain": [
       "array([[0, 1, 0, 1, 0, 1, 0, 1],\n",
       "       [1, 0, 1, 0, 1, 0, 1, 0],\n",
       "       [0, 1, 0, 1, 0, 1, 0, 1],\n",
       "       [1, 0, 1, 0, 1, 0, 1, 0],\n",
       "       [0, 1, 0, 1, 0, 1, 0, 1],\n",
       "       [1, 0, 1, 0, 1, 0, 1, 0],\n",
       "       [0, 1, 0, 1, 0, 1, 0, 1],\n",
       "       [1, 0, 1, 0, 1, 0, 1, 0]])"
      ]
     },
     "execution_count": 137,
     "metadata": {},
     "output_type": "execute_result"
    }
   ],
   "source": [
    "checkerboard = np.array([[0, 1], [1, 0]])\n",
    "\n",
    "np.tile(checkerboard, (4, 4))\n"
   ]
  },
  {
   "cell_type": "markdown",
   "id": "71af9d19",
   "metadata": {},
   "source": [
    "#### 22. Normalize a 5x5 random matrix (★☆☆)"
   ]
  },
  {
   "cell_type": "code",
   "execution_count": 144,
   "id": "df20b788",
   "metadata": {},
   "outputs": [
    {
     "data": {
      "text/plain": [
       "np.float64(27.459060435491963)"
      ]
     },
     "execution_count": 144,
     "metadata": {},
     "output_type": "execute_result"
    }
   ],
   "source": [
    "x = np.random.randint(1, 10, size=(5,5))\n",
    "\n",
    "np.linalg.norm(x)"
   ]
  },
  {
   "cell_type": "code",
   "execution_count": 145,
   "id": "042102ef",
   "metadata": {},
   "outputs": [
    {
     "data": {
      "text/plain": [
       "array([[-0.3493384 , -1.54026476,  1.23856342, -0.74631385, -0.3493384 ],\n",
       "       [-1.54026476,  0.04763705, -0.74631385, -1.14328931,  1.23856342],\n",
       "       [ 0.44461251,  0.84158796,  1.63553887,  1.63553887, -1.14328931],\n",
       "       [ 0.84158796,  0.84158796, -1.14328931, -0.74631385,  0.84158796],\n",
       "       [-0.3493384 , -0.3493384 ,  0.84158796, -1.14328931,  0.84158796]])"
      ]
     },
     "execution_count": 145,
     "metadata": {},
     "output_type": "execute_result"
    }
   ],
   "source": [
    "\"\"\"\n",
    "x-mean/std\n",
    "\"\"\"\n",
    "\n",
    "x = (x - x.mean()) / x.std()\n",
    "x"
   ]
  },
  {
   "cell_type": "markdown",
   "id": "01cd9893",
   "metadata": {},
   "source": [
    "#### 23. Create a custom dtype that describes a color as four unsigned bytes (RGBA) (★☆☆)"
   ]
  },
  {
   "cell_type": "code",
   "execution_count": 148,
   "id": "4acddc2f",
   "metadata": {},
   "outputs": [
    {
     "data": {
      "text/plain": [
       "dtype([('r', 'u1'), ('g', 'u1'), ('b', 'u1'), ('a', 'u1')])"
      ]
     },
     "execution_count": 148,
     "metadata": {},
     "output_type": "execute_result"
    }
   ],
   "source": [
    "rgba = np.dtype([(\"r\", np.ubyte), (\"g\", np.ubyte), (\"b\", np.ubyte), (\"a\", np.ubyte)])\n",
    "rgba"
   ]
  },
  {
   "cell_type": "markdown",
   "id": "0ef5f38b",
   "metadata": {},
   "source": [
    "#### 24. Multiply a 5x3 matrix by a 3x2 matrix (real matrix product) (★☆☆)"
   ]
  },
  {
   "cell_type": "code",
   "execution_count": 146,
   "id": "3d36d4a0",
   "metadata": {},
   "outputs": [
    {
     "name": "stdout",
     "output_type": "stream",
     "text": [
      "[[1 3 7]\n",
      " [2 3 9]\n",
      " [3 9 3]\n",
      " [3 4 3]\n",
      " [7 2 3]]\n",
      "[[5 1]\n",
      " [6 3]\n",
      " [2 6]]\n"
     ]
    },
    {
     "data": {
      "text/plain": [
       "array([[37, 52],\n",
       "       [46, 65],\n",
       "       [75, 48],\n",
       "       [45, 33],\n",
       "       [53, 31]])"
      ]
     },
     "execution_count": 146,
     "metadata": {},
     "output_type": "execute_result"
    }
   ],
   "source": [
    "mat1 = np.random.randint(1, 10, size=(5,3))\n",
    "mat2 = np.random.randint(1, 10, size=(3,2))\n",
    "\n",
    "print(mat1)\n",
    "print(mat2)\n",
    "\n",
    "mat1.dot(mat2)  # or np.dot(mat1, mat2) or mat1 @ mat2"
   ]
  },
  {
   "cell_type": "markdown",
   "id": "a46db425",
   "metadata": {},
   "source": [
    "#### 25. Given a 1D array, negate all elements which are between 3 and 8, in place. (★☆☆)"
   ]
  },
  {
   "cell_type": "code",
   "execution_count": 154,
   "id": "86e3d6a8",
   "metadata": {},
   "outputs": [
    {
     "data": {
      "text/plain": [
       "array([6, 1, 4, 4, 8, 4, 6, 3, 5, 8])"
      ]
     },
     "execution_count": 154,
     "metadata": {},
     "output_type": "execute_result"
    }
   ],
   "source": [
    "np.random.seed(0)\n",
    "x = np.random.randint(1, 10, size=10)\n",
    "x"
   ]
  },
  {
   "cell_type": "code",
   "execution_count": null,
   "id": "0c63005c",
   "metadata": {},
   "outputs": [
    {
     "data": {
      "text/plain": [
       "array([-6,  1, -4, -4, -8, -4, -6, -3, -5, -8])"
      ]
     },
     "execution_count": 159,
     "metadata": {},
     "output_type": "execute_result"
    }
   ],
   "source": [
    "np.where((x>=3) & (x<=8), x*-1, x)"
   ]
  },
  {
   "cell_type": "code",
   "execution_count": 161,
   "id": "4c712696",
   "metadata": {},
   "outputs": [
    {
     "data": {
      "text/plain": [
       "array([-6,  1, -4, -4, -8, -4, -6, -3, -5, -8])"
      ]
     },
     "execution_count": 161,
     "metadata": {},
     "output_type": "execute_result"
    }
   ],
   "source": [
    "x[(x>=3) & (x<=8)] *= -1\n",
    "x"
   ]
  },
  {
   "cell_type": "markdown",
   "id": "89fa6007",
   "metadata": {},
   "source": [
    "#### 26. What is the output of the following script? (★☆☆)\n",
    "```python\n",
    "# Author: Jake VanderPlas\n",
    "\n",
    "print(sum(range(5),-1))\n",
    "from numpy import *\n",
    "print(sum(range(5),-1))\n",
    "```"
   ]
  },
  {
   "cell_type": "code",
   "execution_count": 164,
   "id": "0d9c8a81",
   "metadata": {},
   "outputs": [
    {
     "data": {
      "text/plain": [
       "np.int64(10)"
      ]
     },
     "execution_count": 164,
     "metadata": {},
     "output_type": "execute_result"
    }
   ],
   "source": [
    "sum(range(5))"
   ]
  },
  {
   "cell_type": "code",
   "execution_count": 162,
   "id": "59f2c6dc",
   "metadata": {},
   "outputs": [
    {
     "name": "stdout",
     "output_type": "stream",
     "text": [
      "9\n",
      "10\n"
     ]
    }
   ],
   "source": [
    "print(sum(range(5),-1))\n",
    "from numpy import *\n",
    "print(sum(range(5),-1))"
   ]
  },
  {
   "cell_type": "markdown",
   "id": "38de4589",
   "metadata": {},
   "source": [
    "#### 27. Consider an integer vector Z, which of these expressions are legal? (★☆☆)\n",
    "```python\n",
    "Z**Z\n",
    "2 << Z >> 2\n",
    "Z <- Z\n",
    "1j*Z\n",
    "Z/1/1\n",
    "Z<Z>Z\n",
    "```"
   ]
  },
  {
   "cell_type": "code",
   "execution_count": 166,
   "id": "a9dc9520",
   "metadata": {},
   "outputs": [
    {
     "data": {
      "text/plain": [
       "array([  1,   1,   4,  27, 256])"
      ]
     },
     "execution_count": 166,
     "metadata": {},
     "output_type": "execute_result"
    }
   ],
   "source": [
    "Z = np.arange(5)\n",
    "Z**Z"
   ]
  },
  {
   "cell_type": "code",
   "execution_count": 167,
   "id": "060b8dbb",
   "metadata": {},
   "outputs": [
    {
     "data": {
      "text/plain": [
       "array([0, 1, 2, 4, 8])"
      ]
     },
     "execution_count": 167,
     "metadata": {},
     "output_type": "execute_result"
    }
   ],
   "source": [
    "2 << Z >> 2"
   ]
  },
  {
   "cell_type": "code",
   "execution_count": null,
   "id": "f43b42c3",
   "metadata": {},
   "outputs": [
    {
     "data": {
      "text/plain": [
       "array([ 2,  4,  8, 16, 32])"
      ]
     },
     "execution_count": 172,
     "metadata": {},
     "output_type": "execute_result"
    }
   ],
   "source": [
    "2 << Z\n",
    "\n",
    "\"\"\"\n",
    "0000 -> 0010\n",
    "0001 -> 0100\n",
    "0010 -> 1000\n",
    "0100 -> 10000\n",
    "\"\"\""
   ]
  },
  {
   "cell_type": "code",
   "execution_count": 168,
   "id": "aa7118ac",
   "metadata": {},
   "outputs": [
    {
     "data": {
      "text/plain": [
       "array([False, False, False, False, False])"
      ]
     },
     "execution_count": 168,
     "metadata": {},
     "output_type": "execute_result"
    }
   ],
   "source": [
    "Z <- Z"
   ]
  },
  {
   "cell_type": "code",
   "execution_count": 169,
   "id": "7328c1af",
   "metadata": {},
   "outputs": [
    {
     "data": {
      "text/plain": [
       "array([0.+0.j, 0.+1.j, 0.+2.j, 0.+3.j, 0.+4.j])"
      ]
     },
     "execution_count": 169,
     "metadata": {},
     "output_type": "execute_result"
    }
   ],
   "source": [
    "1j * Z"
   ]
  },
  {
   "cell_type": "code",
   "execution_count": 170,
   "id": "f21d047a",
   "metadata": {},
   "outputs": [
    {
     "data": {
      "text/plain": [
       "array([0., 1., 2., 3., 4.])"
      ]
     },
     "execution_count": 170,
     "metadata": {},
     "output_type": "execute_result"
    }
   ],
   "source": [
    "Z/1/1"
   ]
  },
  {
   "cell_type": "code",
   "execution_count": 171,
   "id": "892acd5d",
   "metadata": {},
   "outputs": [
    {
     "ename": "ValueError",
     "evalue": "The truth value of an array with more than one element is ambiguous. Use a.any() or a.all()",
     "output_type": "error",
     "traceback": [
      "\u001b[31m---------------------------------------------------------------------------\u001b[39m",
      "\u001b[31mValueError\u001b[39m                                Traceback (most recent call last)",
      "\u001b[36mCell\u001b[39m\u001b[36m \u001b[39m\u001b[32mIn[171]\u001b[39m\u001b[32m, line 1\u001b[39m\n\u001b[32m----> \u001b[39m\u001b[32m1\u001b[39m Z < Z > Z\n",
      "\u001b[31mValueError\u001b[39m: The truth value of an array with more than one element is ambiguous. Use a.any() or a.all()"
     ]
    }
   ],
   "source": [
    "Z < Z > Z"
   ]
  },
  {
   "cell_type": "markdown",
   "id": "77c8b8c7",
   "metadata": {},
   "source": [
    "#### 28. What are the result of the following expressions? (★☆☆)\n",
    "```python\n",
    "np.array(0) / np.array(0)\n",
    "np.array(0) // np.array(0)\n",
    "np.array([np.nan]).astype(int).astype(float)\n",
    "```"
   ]
  },
  {
   "cell_type": "code",
   "execution_count": 173,
   "id": "3b66fe44",
   "metadata": {},
   "outputs": [
    {
     "name": "stdout",
     "output_type": "stream",
     "text": [
      "nan\n"
     ]
    },
    {
     "name": "stderr",
     "output_type": "stream",
     "text": [
      "/var/folders/nm/srw3ygl55jbgpddqwgysqjpm0000gn/T/ipykernel_45556/4120864939.py:1: RuntimeWarning: invalid value encountered in divide\n",
      "  print(np.array(0) / np.array(0))\n"
     ]
    }
   ],
   "source": [
    "print(np.array(0) / np.array(0))"
   ]
  },
  {
   "cell_type": "code",
   "execution_count": 174,
   "id": "fc381ef5",
   "metadata": {},
   "outputs": [
    {
     "name": "stdout",
     "output_type": "stream",
     "text": [
      "0\n"
     ]
    },
    {
     "name": "stderr",
     "output_type": "stream",
     "text": [
      "/var/folders/nm/srw3ygl55jbgpddqwgysqjpm0000gn/T/ipykernel_45556/4108562882.py:1: RuntimeWarning: divide by zero encountered in floor_divide\n",
      "  print(np.array(0) // np.array(0))\n"
     ]
    }
   ],
   "source": [
    "print(np.array(0) // np.array(0))"
   ]
  },
  {
   "cell_type": "code",
   "execution_count": 175,
   "id": "00cb4a30",
   "metadata": {},
   "outputs": [
    {
     "name": "stdout",
     "output_type": "stream",
     "text": [
      "[0.]\n"
     ]
    },
    {
     "name": "stderr",
     "output_type": "stream",
     "text": [
      "/var/folders/nm/srw3ygl55jbgpddqwgysqjpm0000gn/T/ipykernel_45556/3034665705.py:1: RuntimeWarning: invalid value encountered in cast\n",
      "  print(np.array([np.nan]).astype(int).astype(float))\n"
     ]
    }
   ],
   "source": [
    "print(np.array([np.nan]).astype(int).astype(float))"
   ]
  },
  {
   "cell_type": "markdown",
   "id": "1f3f0892",
   "metadata": {},
   "source": [
    "#### 29. How to round away from zero a float array ? (★☆☆)"
   ]
  },
  {
   "cell_type": "code",
   "execution_count": 182,
   "id": "8fce1bd7",
   "metadata": {},
   "outputs": [
    {
     "name": "stdout",
     "output_type": "stream",
     "text": [
      "[0.46147936 0.78052918 0.11827443 0.63992102 0.14335329]\n",
      "[1. 1. 1. 1. 1.]\n",
      "[1. 1. 1. 1. 1.]\n"
     ]
    }
   ],
   "source": [
    "z = np.random.random(5)\n",
    "\n",
    "print(z)\n",
    "print(np.ceil(z))\n",
    "print(np.where(z>0, np.ceil(z), np.floor(z)))"
   ]
  },
  {
   "cell_type": "markdown",
   "id": "53f47438",
   "metadata": {},
   "source": [
    "#### 30. How to find common values between two arrays? (★☆☆)"
   ]
  },
  {
   "cell_type": "code",
   "execution_count": 184,
   "id": "981db6ec",
   "metadata": {},
   "outputs": [
    {
     "name": "stdout",
     "output_type": "stream",
     "text": [
      "[5 6 7 8 9]\n"
     ]
    }
   ],
   "source": [
    "a = np.arange(1, 10)\n",
    "b = np.arange(5, 10)\n",
    "\n",
    "print(np.intersect1d(a, b))"
   ]
  },
  {
   "cell_type": "markdown",
   "id": "51cf9109",
   "metadata": {},
   "source": [
    "#### 31. How to ignore all numpy warnings (not recommended)? (★☆☆)"
   ]
  },
  {
   "cell_type": "code",
   "execution_count": null,
   "id": "09ba7521",
   "metadata": {},
   "outputs": [],
   "source": [
    "# np.seterr(all=\"ignore\")\n",
    "\n",
    "# back to safety defaults\n",
    "# np.seterr(all=\"warn\")"
   ]
  },
  {
   "cell_type": "markdown",
   "id": "948a691b",
   "metadata": {},
   "source": [
    "#### 32. Is the following expressions true? (★☆☆)\n",
    "```python\n",
    "np.sqrt(-1) == np.emath.sqrt(-1)\n",
    "```"
   ]
  },
  {
   "cell_type": "code",
   "execution_count": 186,
   "id": "6d8f745b",
   "metadata": {},
   "outputs": [
    {
     "name": "stderr",
     "output_type": "stream",
     "text": [
      "/var/folders/nm/srw3ygl55jbgpddqwgysqjpm0000gn/T/ipykernel_45556/3438155168.py:1: RuntimeWarning: invalid value encountered in sqrt\n",
      "  np.sqrt(-1)\n"
     ]
    },
    {
     "data": {
      "text/plain": [
       "np.float64(nan)"
      ]
     },
     "execution_count": 186,
     "metadata": {},
     "output_type": "execute_result"
    }
   ],
   "source": [
    "np.sqrt(-1)"
   ]
  },
  {
   "cell_type": "code",
   "execution_count": null,
   "id": "15741eea",
   "metadata": {},
   "outputs": [
    {
     "data": {
      "text/plain": [
       "np.complex128(1j)"
      ]
     },
     "execution_count": 187,
     "metadata": {},
     "output_type": "execute_result"
    }
   ],
   "source": [
    "np.emath.sqrt(-1)\n",
    "\n",
    "\"\"\"\n",
    "False\n",
    "\"\"\""
   ]
  },
  {
   "cell_type": "markdown",
   "id": "d1a8992e",
   "metadata": {},
   "source": [
    "#### 33. How to get the dates of yesterday, today and tomorrow? (★☆☆)"
   ]
  },
  {
   "cell_type": "code",
   "execution_count": 210,
   "id": "c6232935",
   "metadata": {},
   "outputs": [
    {
     "name": "stdout",
     "output_type": "stream",
     "text": [
      "2025-10-25 14:48:22.985372\n",
      "2025-10-24 14:48:22.985372\n",
      "2025-10-26 14:48:22.985372\n"
     ]
    }
   ],
   "source": [
    "from datetime import datetime, timedelta\n",
    "\n",
    "today = datetime.now()\n",
    "print(today)\n",
    "\n",
    "yesterday = today - timedelta(days=1)\n",
    "print(yesterday)\n",
    "\n",
    "tomorrow = today + timedelta(days=1)\n",
    "print(tomorrow)"
   ]
  },
  {
   "cell_type": "code",
   "execution_count": 200,
   "id": "8ab677a3",
   "metadata": {},
   "outputs": [
    {
     "name": "stdout",
     "output_type": "stream",
     "text": [
      " datetime64()\n",
      "\n",
      "If created from a 64-bit integer, it represents an offset from\n",
      "``1970-01-01T00:00:00``.\n",
      "If created from string, the string can be in ISO 8601 date\n",
      "or datetime format.\n",
      "\n",
      "When parsing a string to create a datetime object, if the string contains\n",
      "a trailing timezone (A 'Z' or a timezone offset), the timezone will be\n",
      "dropped and a User Warning is given.\n",
      "\n",
      "Datetime64 objects should be considered to be UTC and therefore have an\n",
      "offset of +0000.\n",
      "\n",
      ">>> np.datetime64(10, 'Y')\n",
      "np.datetime64('1980')\n",
      ">>> np.datetime64('1980', 'Y')\n",
      "np.datetime64('1980')\n",
      ">>> np.datetime64(10, 'D')\n",
      "np.datetime64('1970-01-11')\n",
      "\n",
      "See :ref:`arrays.datetime` for more information.\n",
      "\n",
      ":Character code: ``'M'``\n",
      "\n",
      "\n",
      "Methods:\n",
      "\n",
      "  all  --  Scalar method identical to the corresponding array attribute.\n",
      "  any  --  Scalar method identical to the corresponding array attribute.\n",
      "  argmax  --  Scalar method identical to the corresponding array attribute.\n",
      "  argmin  --  Scalar method identical to the corresponding array attribute.\n",
      "  argsort  --  Scalar method identical to the corresponding array attribute.\n",
      "  astype  --  Scalar method identical to the corresponding array attribute.\n",
      "  byteswap  --  Scalar method identical to the corresponding array attribute.\n",
      "  choose  --  Scalar method identical to the corresponding array attribute.\n",
      "  clip  --  Scalar method identical to the corresponding array attribute.\n",
      "  compress  --  Scalar method identical to the corresponding array attribute.\n",
      "  conj  --  None\n",
      "  conjugate  --  Scalar method identical to the corresponding array attribute.\n",
      "  copy  --  Scalar method identical to the corresponding array attribute.\n",
      "  cumprod  --  Scalar method identical to the corresponding array attribute.\n",
      "  cumsum  --  Scalar method identical to the corresponding array attribute.\n",
      "  diagonal  --  Scalar method identical to the corresponding array attribute.\n",
      "  dump  --  Scalar method identical to the corresponding array attribute.\n",
      "  dumps  --  Scalar method identical to the corresponding array attribute.\n",
      "  fill  --  Scalar method identical to the corresponding array attribute.\n",
      "  flatten  --  Scalar method identical to the corresponding array attribute.\n",
      "  getfield  --  Scalar method identical to the corresponding array attribute.\n",
      "  item  --  Scalar method identical to the corresponding array attribute.\n",
      "  max  --  Scalar method identical to the corresponding array attribute.\n",
      "  mean  --  Scalar method identical to the corresponding array attribute.\n",
      "  min  --  Scalar method identical to the corresponding array attribute.\n",
      "  nonzero  --  Scalar method identical to the corresponding array attribute.\n",
      "  prod  --  Scalar method identical to the corresponding array attribute.\n",
      "  put  --  Scalar method identical to the corresponding array attribute.\n",
      "  ravel  --  Scalar method identical to the corresponding array attribute.\n",
      "  repeat  --  Scalar method identical to the corresponding array attribute.\n",
      "  reshape  --  Scalar method identical to the corresponding array attribute.\n",
      "  resize  --  Scalar method identical to the corresponding array attribute.\n",
      "  round  --  Scalar method identical to the corresponding array attribute.\n",
      "  searchsorted  --  Scalar method identical to the corresponding array attribute.\n",
      "  setfield  --  Scalar method identical to the corresponding array attribute.\n",
      "  setflags  --  Scalar method identical to the corresponding array attribute.\n",
      "  sort  --  Scalar method identical to the corresponding array attribute.\n",
      "  squeeze  --  Scalar method identical to the corresponding array attribute.\n",
      "  std  --  Scalar method identical to the corresponding array attribute.\n",
      "  sum  --  Scalar method identical to the corresponding array attribute.\n",
      "  swapaxes  --  Scalar method identical to the corresponding array attribute.\n",
      "  take  --  Scalar method identical to the corresponding array attribute.\n",
      "  to_device  --  None\n",
      "  tobytes  --  None\n",
      "  tofile  --  Scalar method identical to the corresponding array attribute.\n",
      "  tolist  --  Scalar method identical to the corresponding array attribute.\n",
      "  tostring  --  Scalar method identical to the corresponding array attribute.\n",
      "  trace  --  Scalar method identical to the corresponding array attribute.\n",
      "  transpose  --  Scalar method identical to the corresponding array attribute.\n",
      "  var  --  Scalar method identical to the corresponding array attribute.\n",
      "  view  --  Scalar method identical to the corresponding array attribute.\n"
     ]
    }
   ],
   "source": [
    "np.info(np.datetime64)"
   ]
  },
  {
   "cell_type": "code",
   "execution_count": 209,
   "id": "02beeee4",
   "metadata": {},
   "outputs": [
    {
     "name": "stdout",
     "output_type": "stream",
     "text": [
      "2025-10-25\n",
      "2025-10-24\n",
      "2025-10-26\n"
     ]
    }
   ],
   "source": [
    "today = np.datetime64(\"today\", \"D\")\n",
    "yesterday = today - np.timedelta64(\"1\", \"D\")\n",
    "tomorrow = today + np.timedelta64(\"1\", \"D\")\n",
    "\n",
    "print(today)\n",
    "print(yesterday)\n",
    "print(tomorrow)"
   ]
  },
  {
   "cell_type": "markdown",
   "id": "01378794",
   "metadata": {},
   "source": [
    "#### 34. How to get all the dates corresponding to the month of July 2016? (★★☆)"
   ]
  },
  {
   "cell_type": "code",
   "execution_count": 212,
   "id": "928c55c6",
   "metadata": {},
   "outputs": [
    {
     "data": {
      "text/plain": [
       "array(['2016-07-01', '2016-07-02', '2016-07-03', '2016-07-04',\n",
       "       '2016-07-05', '2016-07-06', '2016-07-07', '2016-07-08',\n",
       "       '2016-07-09', '2016-07-10', '2016-07-11', '2016-07-12',\n",
       "       '2016-07-13', '2016-07-14', '2016-07-15', '2016-07-16',\n",
       "       '2016-07-17', '2016-07-18', '2016-07-19', '2016-07-20',\n",
       "       '2016-07-21', '2016-07-22', '2016-07-23', '2016-07-24',\n",
       "       '2016-07-25', '2016-07-26', '2016-07-27', '2016-07-28',\n",
       "       '2016-07-29', '2016-07-30', '2016-07-31'], dtype='datetime64[D]')"
      ]
     },
     "execution_count": 212,
     "metadata": {},
     "output_type": "execute_result"
    }
   ],
   "source": [
    "# np.datetime64(\"2016-07\")\n",
    "\n",
    "np.arange(np.datetime64(\"2016-07\"), np.datetime64(\"2016-08\"), dtype='datetime64[D]')"
   ]
  },
  {
   "cell_type": "code",
   "execution_count": 213,
   "id": "01b992fe",
   "metadata": {},
   "outputs": [
    {
     "data": {
      "text/plain": [
       "array(['2016-07-01', '2016-07-02', '2016-07-03', '2016-07-04',\n",
       "       '2016-07-05', '2016-07-06', '2016-07-07', '2016-07-08',\n",
       "       '2016-07-09', '2016-07-10', '2016-07-11', '2016-07-12',\n",
       "       '2016-07-13', '2016-07-14', '2016-07-15', '2016-07-16',\n",
       "       '2016-07-17', '2016-07-18', '2016-07-19', '2016-07-20',\n",
       "       '2016-07-21', '2016-07-22', '2016-07-23', '2016-07-24',\n",
       "       '2016-07-25', '2016-07-26', '2016-07-27', '2016-07-28',\n",
       "       '2016-07-29', '2016-07-30', '2016-07-31'], dtype='datetime64[D]')"
      ]
     },
     "execution_count": 213,
     "metadata": {},
     "output_type": "execute_result"
    }
   ],
   "source": [
    "np.arange(\"2016-07\", \"2016-08\", dtype='datetime64[D]')"
   ]
  },
  {
   "cell_type": "markdown",
   "id": "e3f8fe94",
   "metadata": {},
   "source": [
    "#### 35. How to compute ((A+B)*(-A/2)) in place (without copy)? (★★☆)"
   ]
  },
  {
   "cell_type": "code",
   "execution_count": 223,
   "id": "14e478d5",
   "metadata": {},
   "outputs": [
    {
     "name": "stdout",
     "output_type": "stream",
     "text": [
      "[1. 1. 1. 1. 1.] [2. 2. 2. 2. 2.]\n"
     ]
    },
    {
     "data": {
      "text/plain": [
       "array([-1.5, -1.5, -1.5, -1.5, -1.5])"
      ]
     },
     "execution_count": 223,
     "metadata": {},
     "output_type": "execute_result"
    }
   ],
   "source": [
    "np.random.seed(42)\n",
    "\n",
    "A = np.ones(5) * 1\n",
    "B = np.ones(5) * 2\n",
    "\n",
    "print(A, B)\n",
    "\n",
    "# np.dot(A+B, -A/2)\n",
    "\n",
    "np.multiply(np.add(A, B, out=B), np.divide(-A, 2, out=A), out=A)"
   ]
  },
  {
   "cell_type": "markdown",
   "id": "5c4d58c9",
   "metadata": {},
   "source": [
    "#### 36. Extract the integer part of a random array of positive numbers using 4 different methods (★★☆)"
   ]
  },
  {
   "cell_type": "code",
   "execution_count": 235,
   "id": "586beded",
   "metadata": {},
   "outputs": [
    {
     "name": "stdout",
     "output_type": "stream",
     "text": [
      "[2.74406752 3.57594683 3.01381688 2.72441591 2.118274  ]\n",
      "[2. 3. 3. 2. 2.]\n",
      "[2. 3. 3. 2. 2.]\n",
      "[2 3 3 2 2]\n",
      "[2. 3. 3. 2. 2.]\n"
     ]
    }
   ],
   "source": [
    "np.random.seed(0)\n",
    "\n",
    "arr = np.random.random(size=5) * 5\n",
    "print(arr)\n",
    "\n",
    "# method 1\n",
    "print(arr // 1)\n",
    "\n",
    "# method 2\n",
    "print(np.floor(arr))\n",
    "\n",
    "# method 3\n",
    "print(arr.astype(int))\n",
    "\n",
    "# method 4\n",
    "print(arr - arr%1)\n"
   ]
  },
  {
   "cell_type": "markdown",
   "id": "62628653",
   "metadata": {},
   "source": [
    "#### 37. Create a 5x5 matrix with row values ranging from 0 to 4 (★★☆)"
   ]
  },
  {
   "cell_type": "code",
   "execution_count": 237,
   "id": "e57763b3",
   "metadata": {},
   "outputs": [
    {
     "data": {
      "text/plain": [
       "array([[0, 1, 2, 3, 4],\n",
       "       [0, 1, 2, 3, 4],\n",
       "       [0, 1, 2, 3, 4],\n",
       "       [0, 1, 2, 3, 4],\n",
       "       [0, 1, 2, 3, 4]])"
      ]
     },
     "execution_count": 237,
     "metadata": {},
     "output_type": "execute_result"
    }
   ],
   "source": [
    "matrix = np.tile(np.arange(0, 5), reps=(5, 1))\n",
    "\n",
    "matrix"
   ]
  },
  {
   "cell_type": "markdown",
   "id": "d3d46d64",
   "metadata": {},
   "source": [
    "#### 38. Consider a generator function that generates 10 integers and use it to build an array (★☆☆)"
   ]
  },
  {
   "cell_type": "code",
   "execution_count": 246,
   "id": "24590d8c",
   "metadata": {},
   "outputs": [
    {
     "data": {
      "text/plain": [
       "array([0., 1., 2., 3., 4., 5., 6., 7., 8., 9.])"
      ]
     },
     "execution_count": 246,
     "metadata": {},
     "output_type": "execute_result"
    }
   ],
   "source": [
    "def generate():\n",
    "    for x in range(10):\n",
    "        yield x\n",
    "\n",
    "np.fromiter(generate(), dtype=\"float\", count=-1)  # count says how much data is read, -1 means all of it is read"
   ]
  },
  {
   "cell_type": "code",
   "execution_count": 245,
   "id": "d81cf715",
   "metadata": {},
   "outputs": [
    {
     "name": "stdout",
     "output_type": "stream",
     "text": [
      "fromiter(iter, dtype, count=-1, *, like=None)\n",
      "\n",
      "Create a new 1-dimensional array from an iterable object.\n",
      "\n",
      "Parameters\n",
      "----------\n",
      "iter : iterable object\n",
      "    An iterable object providing data for the array.\n",
      "dtype : data-type\n",
      "    The data-type of the returned array.\n",
      "\n",
      "    .. versionchanged:: 1.23\n",
      "        Object and subarray dtypes are now supported (note that the final\n",
      "        result is not 1-D for a subarray dtype).\n",
      "\n",
      "count : int, optional\n",
      "    The number of items to read from *iterable*.  The default is -1,\n",
      "    which means all data is read.\n",
      "like : array_like, optional\n",
      "    Reference object to allow the creation of arrays which are not\n",
      "    NumPy arrays. If an array-like passed in as ``like`` supports\n",
      "    the ``__array_function__`` protocol, the result will be defined\n",
      "    by it. In this case, it ensures the creation of an array object\n",
      "    compatible with that passed in via this argument.\n",
      "\n",
      "    .. versionadded:: 1.20.0\n",
      "\n",
      "Returns\n",
      "-------\n",
      "out : ndarray\n",
      "    The output array.\n",
      "\n",
      "Notes\n",
      "-----\n",
      "Specify `count` to improve performance.  It allows ``fromiter`` to\n",
      "pre-allocate the output array, instead of resizing it on demand.\n",
      "\n",
      "Examples\n",
      "--------\n",
      ">>> import numpy as np\n",
      ">>> iterable = (x*x for x in range(5))\n",
      ">>> np.fromiter(iterable, float)\n",
      "array([  0.,   1.,   4.,   9.,  16.])\n",
      "\n",
      "A carefully constructed subarray dtype will lead to higher dimensional\n",
      "results:\n",
      "\n",
      ">>> iterable = ((x+1, x+2) for x in range(5))\n",
      ">>> np.fromiter(iterable, dtype=np.dtype((int, 2)))\n",
      "array([[1, 2],\n",
      "       [2, 3],\n",
      "       [3, 4],\n",
      "       [4, 5],\n",
      "       [5, 6]])\n"
     ]
    }
   ],
   "source": [
    "np.info(np.fromiter)"
   ]
  },
  {
   "cell_type": "markdown",
   "id": "5e1e51e4",
   "metadata": {},
   "source": [
    "#### 39. Create a vector of size 10 with values ranging from 0 to 1, both excluded (★★☆)"
   ]
  },
  {
   "cell_type": "code",
   "execution_count": 254,
   "id": "def73884",
   "metadata": {},
   "outputs": [
    {
     "data": {
      "text/plain": [
       "array([0.09090909, 0.18181818, 0.27272727, 0.36363636, 0.45454545,\n",
       "       0.54545455, 0.63636364, 0.72727273, 0.81818182, 0.90909091])"
      ]
     },
     "execution_count": 254,
     "metadata": {},
     "output_type": "execute_result"
    }
   ],
   "source": [
    "x = np.random.random(size=10) # but this can include 0.0\n",
    "\n",
    "# correct way\n",
    "x = np.linspace(start=0, stop=1, num=11, endpoint=False)[1:]\n",
    "x\n"
   ]
  },
  {
   "cell_type": "markdown",
   "id": "9e19964c",
   "metadata": {},
   "source": [
    "#### 40. Create a random vector of size 10 and sort it (★★☆)"
   ]
  },
  {
   "cell_type": "code",
   "execution_count": 258,
   "id": "ec302eb1",
   "metadata": {},
   "outputs": [
    {
     "name": "stdout",
     "output_type": "stream",
     "text": [
      "[0.39650574 0.8811032  0.58127287 0.88173536 0.69253159 0.72525428\n",
      " 0.50132438 0.95608363 0.6439902  0.42385505]\n",
      "[0.39650574 0.42385505 0.50132438 0.58127287 0.6439902  0.69253159\n",
      " 0.72525428 0.8811032  0.88173536 0.95608363]\n"
     ]
    }
   ],
   "source": [
    "x = np.random.random(size=10)\n",
    "print(x)\n",
    "\n",
    "print(np.sort(x))"
   ]
  },
  {
   "cell_type": "markdown",
   "id": "13a034e2",
   "metadata": {},
   "source": [
    "#### 41. How to sum a small array faster than np.sum? (★★☆)"
   ]
  },
  {
   "cell_type": "code",
   "execution_count": 261,
   "id": "b09a3551",
   "metadata": {},
   "outputs": [
    {
     "name": "stdout",
     "output_type": "stream",
     "text": [
      "10\n",
      "10\n"
     ]
    }
   ],
   "source": [
    "arr = np.array([1, 2, 3, 4])\n",
    "\n",
    "print(np.sum(arr, axis=0))\n",
    "print(np.cumsum(arr, axis=0)[-1])"
   ]
  },
  {
   "cell_type": "code",
   "execution_count": 262,
   "id": "67c1b74a",
   "metadata": {},
   "outputs": [
    {
     "data": {
      "text/plain": [
       "\"reduce(array, axis=0, dtype=None, out=None, keepdims=False, initial=<no value>, where=True)\\n\\n    Reduces `array`'s dimension by one, by applying ufunc along one axis.\\n\\n    Let :math:`array.shape = (N_0, ..., N_i, ..., N_{M-1})`.  Then\\n    :math:`ufunc.reduce(array, axis=i)[k_0, ..,k_{i-1}, k_{i+1}, .., k_{M-1}]` =\\n    the result of iterating `j` over :math:`range(N_i)`, cumulatively applying\\n    ufunc to each :math:`array[k_0, ..,k_{i-1}, j, k_{i+1}, .., k_{M-1}]`.\\n    For a one-dimensional array, reduce produces results equivalent to:\\n    ::\\n\\n     r = op.identity # op = ufunc\\n     for i in range(len(A)):\\n       r = op(r, A[i])\\n     return r\\n\\n    For example, add.reduce() is equivalent to sum().\\n\\n    Parameters\\n    ----------\\n    array : array_like\\n        The array to act on.\\n    axis : None or int or tuple of ints, optional\\n        Axis or axes along which a reduction is performed.\\n        The default (`axis` = 0) is perform a reduction over the first\\n        dimension of the input array. `axis` may be negative, in\\n        which case it counts from the last to the first axis.\\n\\n        If this is None, a reduction is performed over all the axes.\\n        If this is a tuple of ints, a reduction is performed on multiple\\n        axes, instead of a single axis or all the axes as before.\\n\\n        For operations which are either not commutative or not associative,\\n        doing a reduction over multiple axes is not well-defined. The\\n        ufuncs do not currently raise an exception in this case, but will\\n        likely do so in the future.\\n    dtype : data-type code, optional\\n        The data type used to perform the operation. Defaults to that of\\n        ``out`` if given, and the data type of ``array`` otherwise (though\\n        upcast to conserve precision for some cases, such as\\n        ``numpy.add.reduce`` for integer or boolean input).\\n    out : ndarray, None, ..., or tuple of ndarray and None, optional\\n        Location into which the result is stored.\\n        If not provided or None, a freshly-allocated array is returned.\\n        If passed as a keyword argument, can be Ellipses (``out=...``) to\\n        ensure an array is returned even if the result is 0-dimensional\\n        (which is useful especially for object dtype), or a 1-element tuple\\n        (latter for consistency with ``ufunc.__call__``).\\n\\n        .. versionadded:: 2.3\\n            Support for ``out=...`` was added.\\n\\n    keepdims : bool, optional\\n        If this is set to True, the axes which are reduced are left\\n        in the result as dimensions with size one. With this option,\\n        the result will broadcast correctly against the original `array`.\\n    initial : scalar, optional\\n        The value with which to start the reduction.\\n        If the ufunc has no identity or the dtype is object, this defaults\\n        to None - otherwise it defaults to ufunc.identity.\\n        If ``None`` is given, the first element of the reduction is used,\\n        and an error is thrown if the reduction is empty.\\n    where : array_like of bool, optional\\n        A boolean array which is broadcasted to match the dimensions\\n        of `array`, and selects elements to include in the reduction. Note\\n        that for ufuncs like ``minimum`` that do not have an identity\\n        defined, one has to pass in also ``initial``.\\n\\n    Returns\\n    -------\\n    r : ndarray\\n        The reduced array. If `out` was supplied, `r` is a reference to it.\\n\\n    Examples\\n    --------\\n    >>> import numpy as np\\n    >>> np.multiply.reduce([2,3,5])\\n    30\\n\\n    A multi-dimensional array example:\\n\\n    >>> X = np.arange(8).reshape((2,2,2))\\n    >>> X\\n    array([[[0, 1],\\n            [2, 3]],\\n           [[4, 5],\\n            [6, 7]]])\\n    >>> np.add.reduce(X, 0)\\n    array([[ 4,  6],\\n           [ 8, 10]])\\n    >>> np.add.reduce(X) # confirm: default axis value is 0\\n    array([[ 4,  6],\\n           [ 8, 10]])\\n    >>> np.add.reduce(X, 1)\\n    array([[ 2,  4],\\n           [10, 12]])\\n    >>> np.add.reduce(X, 2)\\n    array([[ 1,  5],\\n           [ 9, 13]])\\n\\n    You can use the ``initial`` keyword argument to initialize the reduction\\n    with a different value, and ``where`` to select specific elements to include:\\n\\n    >>> np.add.reduce([10], initial=5)\\n    15\\n    >>> np.add.reduce(np.ones((2, 2, 2)), axis=(0, 2), initial=10)\\n    array([14., 14.])\\n    >>> a = np.array([10., np.nan, 10])\\n    >>> np.add.reduce(a, where=~np.isnan(a))\\n    20.0\\n\\n    Allows reductions of empty arrays where they would normally fail, i.e.\\n    for ufuncs without an identity.\\n\\n    >>> np.minimum.reduce([], initial=np.inf)\\n    inf\\n    >>> np.minimum.reduce([[1., 2.], [3., 4.]], initial=10., where=[True, False])\\n    array([ 1., 10.])\\n    >>> np.minimum.reduce([])\\n    Traceback (most recent call last):\\n        ...\\n    ValueError: zero-size array to reduction operation minimum which has no identity\""
      ]
     },
     "execution_count": 262,
     "metadata": {},
     "output_type": "execute_result"
    }
   ],
   "source": [
    "np.add.reduce.__doc__"
   ]
  },
  {
   "cell_type": "code",
   "execution_count": null,
   "id": "aaeb1609",
   "metadata": {},
   "outputs": [
    {
     "data": {
      "text/plain": [
       "np.int64(10)"
      ]
     },
     "execution_count": 263,
     "metadata": {},
     "output_type": "execute_result"
    }
   ],
   "source": [
    "np.add.reduce(arr)  # why is this faster than np.sum?"
   ]
  },
  {
   "cell_type": "markdown",
   "id": "32d10473",
   "metadata": {},
   "source": [
    "#### 42. Consider two random arrays A and B, check if they are equal (★★☆)"
   ]
  },
  {
   "cell_type": "code",
   "execution_count": null,
   "id": "5ebb1103",
   "metadata": {},
   "outputs": [
    {
     "name": "stdout",
     "output_type": "stream",
     "text": [
      "[ True  True False]\n",
      "[ True  True False]\n",
      "False\n",
      "False\n",
      "True\n"
     ]
    }
   ],
   "source": [
    "A = np.array([1, 1, 3])\n",
    "B  = np.array([1, 1, 3.1])\n",
    "\n",
    "print(A == B)\n",
    "print(np.equal(A, B))\n",
    "\n",
    "print(np.all(A==B))\n",
    "print(np.array_equal(A, B))\n",
    "print(np.allclose(A, B, rtol=0.1))   # checks equality within a tolerance "
   ]
  },
  {
   "cell_type": "markdown",
   "id": "a50474b0",
   "metadata": {},
   "source": [
    "#### 43. Make an array immutable (read-only) (★★☆)"
   ]
  },
  {
   "cell_type": "code",
   "execution_count": null,
   "id": "db6fe176",
   "metadata": {},
   "outputs": [
    {
     "ename": "ValueError",
     "evalue": "assignment destination is read-only",
     "output_type": "error",
     "traceback": [
      "\u001b[31m---------------------------------------------------------------------------\u001b[39m",
      "\u001b[31mValueError\u001b[39m                                Traceback (most recent call last)",
      "\u001b[36mCell\u001b[39m\u001b[36m \u001b[39m\u001b[32mIn[274]\u001b[39m\u001b[32m, line 4\u001b[39m\n\u001b[32m      1\u001b[39m arr = np.array([\u001b[32m1\u001b[39m, \u001b[32m2\u001b[39m, \u001b[32m3\u001b[39m, \u001b[32m4\u001b[39m])\n\u001b[32m      2\u001b[39m arr.flags.writeable = \u001b[38;5;28;01mFalse\u001b[39;00m\n\u001b[32m----> \u001b[39m\u001b[32m4\u001b[39m \u001b[43marr\u001b[49m\u001b[43m[\u001b[49m\u001b[32;43m0\u001b[39;49m\u001b[43m]\u001b[49m = [\u001b[32m2\u001b[39m]\n",
      "\u001b[31mValueError\u001b[39m: assignment destination is read-only"
     ]
    }
   ],
   "source": [
    "arr = np.array([1, 2, 3, 4])\n",
    "arr.flags.writeable = False\n",
    "\n",
    "arr[0] = [2] # cannot assign val"
   ]
  },
  {
   "cell_type": "markdown",
   "id": "b7a6093e",
   "metadata": {},
   "source": [
    "#### 44. Consider a random 10x2 matrix representing cartesian coordinates, convert them to polar coordinates (★★☆)"
   ]
  },
  {
   "cell_type": "code",
   "execution_count": 290,
   "id": "4479c48d",
   "metadata": {},
   "outputs": [
    {
     "name": "stdout",
     "output_type": "stream",
     "text": [
      "[[1.32581766 4.        ]\n",
      " [1.37340077 5.        ]\n",
      " [1.24904577 3.        ]\n",
      " [1.44644133 8.        ]\n",
      " [1.32581766 4.        ]\n",
      " [1.44644133 8.        ]\n",
      " [1.40564765 6.        ]\n",
      " [1.10714872 2.        ]\n",
      " [1.40564765 6.        ]\n",
      " [1.37340077 5.        ]]\n",
      "[ 8.06225775  9.43398113  7.61577311 10.63014581  6.40312424 11.3137085\n",
      "  6.70820393  5.38516481 10.          5.38516481]\n",
      "[1.32581766 1.37340077 1.24904577 1.44644133 1.32581766 1.44644133\n",
      " 1.40564765 1.10714872 1.40564765 1.37340077]\n",
      "[[ 8.06225775  1.32581766]\n",
      " [ 9.43398113  1.37340077]\n",
      " [ 7.61577311  1.24904577]\n",
      " [10.63014581  1.44644133]\n",
      " [ 6.40312424  1.32581766]\n",
      " [11.3137085   1.44644133]\n",
      " [ 6.70820393  1.40564765]\n",
      " [ 5.38516481  1.10714872]\n",
      " [10.          1.40564765]\n",
      " [ 5.38516481  1.37340077]]\n"
     ]
    }
   ],
   "source": [
    "\"\"\"\n",
    "Polar to Cartesian:\n",
    "\n",
    "x = r cos(θ)\n",
    "y = r sin(θ)\n",
    "\n",
    "Cartesian to Polar:\n",
    "\n",
    "r = √(x² + y²)\n",
    "θ = arctan(y/x)\n",
    "\"\"\"\n",
    "np.random.seed(42)\n",
    "\n",
    "matrix = np.random.randint(1, 10, size=(10, 2)).astype(\"float\")\n",
    "\n",
    "r = np.sqrt(np.sum(np.power(matrix, 2), axis=1))\n",
    "\n",
    "X, Y = matrix[:, 0], matrix[:, 1]\n",
    "theta = np.arctan(Y, X)\n",
    "\n",
    "print(matrix)\n",
    "print(r)\n",
    "print(theta)\n",
    "\n",
    "polar_coords = np.column_stack((r, theta))\n",
    "print(polar_coords)"
   ]
  },
  {
   "cell_type": "markdown",
   "id": "934f889c",
   "metadata": {},
   "source": [
    "#### 45. Create random vector of size 10 and replace the maximum value by 0 (★★☆)"
   ]
  },
  {
   "cell_type": "code",
   "execution_count": 304,
   "id": "4b576814",
   "metadata": {},
   "outputs": [
    {
     "name": "stdout",
     "output_type": "stream",
     "text": [
      "[10.          0.71518937  0.60276338  0.54488318  0.4236548  10.\n",
      "  0.43758721  0.891773    0.96366276  0.38344152]\n"
     ]
    },
    {
     "data": {
      "text/plain": [
       "array([0.        , 0.71518937, 0.60276338, 0.54488318, 0.4236548 ,\n",
       "       0.        , 0.43758721, 0.891773  , 0.96366276, 0.38344152])"
      ]
     },
     "execution_count": 304,
     "metadata": {},
     "output_type": "execute_result"
    }
   ],
   "source": [
    "np.random.seed(0)\n",
    "arr = np.random.random(size=10)\n",
    "arr[0] = 10\n",
    "arr[5] = 10\n",
    "\n",
    "print(arr)\n",
    "\n",
    "# arr[np.argmax(arr)] = 0 # but only for a single max value\n",
    "\n",
    "np.where(arr==arr.max(), 0, arr)"
   ]
  },
  {
   "cell_type": "markdown",
   "id": "d4f6e2e1",
   "metadata": {},
   "source": [
    "#### 46. Create a structured array with `x` and `y` coordinates covering the [0,1]x[0,1] area (★★☆)"
   ]
  },
  {
   "cell_type": "code",
   "execution_count": 313,
   "id": "f90f969b",
   "metadata": {},
   "outputs": [
    {
     "name": "stdout",
     "output_type": "stream",
     "text": [
      "[[(0.  , 0.  ) (0.25, 0.25) (0.5 , 0.5 ) (0.75, 0.75) (1.  , 1.  )]\n",
      " [(0.  , 0.  ) (0.25, 0.25) (0.5 , 0.5 ) (0.75, 0.75) (1.  , 1.  )]\n",
      " [(0.  , 0.  ) (0.25, 0.25) (0.5 , 0.5 ) (0.75, 0.75) (1.  , 1.  )]\n",
      " [(0.  , 0.  ) (0.25, 0.25) (0.5 , 0.5 ) (0.75, 0.75) (1.  , 1.  )]\n",
      " [(0.  , 0.  ) (0.25, 0.25) (0.5 , 0.5 ) (0.75, 0.75) (1.  , 1.  )]]\n"
     ]
    }
   ],
   "source": [
    "Z = np.zeros(shape=(5,5), dtype=[(\"x\", \"float\"), (\"y\", \"float\")])\n",
    "\n",
    "Z[\"x\"] = np.linspace(0, 1, 5)\n",
    "Z[\"y\"] = np.linspace(0, 1, 5)\n",
    "\n",
    "print(Z)"
   ]
  },
  {
   "cell_type": "code",
   "execution_count": null,
   "id": "5697538d",
   "metadata": {},
   "outputs": [
    {
     "data": {
      "text/plain": [
       "array([[(0, 0, 0), (0, 0, 0), (0, 0, 0), (0, 0, 0), (0, 0, 0)],\n",
       "       [(0, 0, 0), (0, 0, 0), (0, 0, 0), (0, 0, 0), (0, 0, 0)],\n",
       "       [(0, 0, 0), (0, 0, 0), (0, 0, 0), (0, 0, 0), (0, 0, 0)],\n",
       "       [(0, 0, 0), (0, 0, 0), (0, 0, 0), (0, 0, 0), (0, 0, 0)],\n",
       "       [(0, 0, 0), (0, 0, 0), (0, 0, 0), (0, 0, 0), (0, 0, 0)]],\n",
       "      dtype=[('x', '<i8'), ('y', '<i8'), ('z', '<i8')])"
      ]
     },
     "execution_count": 315,
     "metadata": {},
     "output_type": "execute_result"
    }
   ],
   "source": [
    "# example usage\n",
    "Z_3d = np.zeros(shape=(5,5), dtype=[(\"x\", int), (\"y\", int), (\"z\", int)])\n",
    "Z_3d"
   ]
  },
  {
   "cell_type": "code",
   "execution_count": 312,
   "id": "81fe3b64",
   "metadata": {},
   "outputs": [
    {
     "name": "stdout",
     "output_type": "stream",
     "text": [
      "zeros(shape, dtype=float, order='C', *, like=None)\n",
      "\n",
      "Return a new array of given shape and type, filled with zeros.\n",
      "\n",
      "Parameters\n",
      "----------\n",
      "shape : int or tuple of ints\n",
      "    Shape of the new array, e.g., ``(2, 3)`` or ``2``.\n",
      "dtype : data-type, optional\n",
      "    The desired data-type for the array, e.g., `numpy.int8`.  Default is\n",
      "    `numpy.float64`.\n",
      "order : {'C', 'F'}, optional, default: 'C'\n",
      "    Whether to store multi-dimensional data in row-major\n",
      "    (C-style) or column-major (Fortran-style) order in\n",
      "    memory.\n",
      "like : array_like, optional\n",
      "    Reference object to allow the creation of arrays which are not\n",
      "    NumPy arrays. If an array-like passed in as ``like`` supports\n",
      "    the ``__array_function__`` protocol, the result will be defined\n",
      "    by it. In this case, it ensures the creation of an array object\n",
      "    compatible with that passed in via this argument.\n",
      "\n",
      "    .. versionadded:: 1.20.0\n",
      "\n",
      "Returns\n",
      "-------\n",
      "out : ndarray\n",
      "    Array of zeros with the given shape, dtype, and order.\n",
      "\n",
      "See Also\n",
      "--------\n",
      "zeros_like : Return an array of zeros with shape and type of input.\n",
      "empty : Return a new uninitialized array.\n",
      "ones : Return a new array setting values to one.\n",
      "full : Return a new array of given shape filled with value.\n",
      "\n",
      "Examples\n",
      "--------\n",
      ">>> import numpy as np\n",
      ">>> np.zeros(5)\n",
      "array([ 0.,  0.,  0.,  0.,  0.])\n",
      "\n",
      ">>> np.zeros((5,), dtype=int)\n",
      "array([0, 0, 0, 0, 0])\n",
      "\n",
      ">>> np.zeros((2, 1))\n",
      "array([[ 0.],\n",
      "       [ 0.]])\n",
      "\n",
      ">>> s = (2,2)\n",
      ">>> np.zeros(s)\n",
      "array([[ 0.,  0.],\n",
      "       [ 0.,  0.]])\n",
      "\n",
      ">>> np.zeros((2,), dtype=[('x', 'i4'), ('y', 'i4')]) # custom dtype\n",
      "array([(0, 0), (0, 0)],\n",
      "      dtype=[('x', '<i4'), ('y', '<i4')])\n"
     ]
    }
   ],
   "source": [
    "np.info(np.zeros)"
   ]
  },
  {
   "cell_type": "markdown",
   "id": "bc9c88d3",
   "metadata": {},
   "source": [
    "#### 47. Given two arrays, X and Y, construct the Cauchy matrix C (Cij =1/(xi - yj)) (★★☆)"
   ]
  },
  {
   "cell_type": "code",
   "execution_count": null,
   "id": "e90ad595",
   "metadata": {},
   "outputs": [
    {
     "name": "stdout",
     "output_type": "stream",
     "text": [
      "[[-2.         -0.66666667 -0.4        -0.28571429]\n",
      " [ 2.         -2.         -0.66666667 -0.4       ]\n",
      " [ 0.66666667  2.         -2.         -0.66666667]\n",
      " [ 0.4         0.66666667  2.         -2.        ]]\n",
      "(4, 4)\n"
     ]
    }
   ],
   "source": [
    "X = np.arange(1, 5)\n",
    "Y = X + 0.5\n",
    "\n",
    "C = 1/ np.subtract.outer(X, Y)\n",
    "\n",
    "print(C)\n",
    "print(C.shape)"
   ]
  },
  {
   "cell_type": "code",
   "execution_count": 337,
   "id": "417653a9",
   "metadata": {},
   "outputs": [
    {
     "name": "stdout",
     "output_type": "stream",
     "text": [
      "[[-2.         -0.66666667 -0.4        -0.28571429]\n",
      " [ 2.         -2.         -0.66666667 -0.4       ]\n",
      " [ 0.66666667  2.         -2.         -0.66666667]\n",
      " [ 0.4         0.66666667  2.         -2.        ]]\n"
     ]
    }
   ],
   "source": [
    "X = np.arange(1, 5)\n",
    "Y = X + 0.5\n",
    "# (4, 1). newaxis is similar to None\n",
    "C = 1 / (X[:, np.newaxis] - Y)\n",
    "print(C)"
   ]
  },
  {
   "cell_type": "markdown",
   "id": "a840a52f",
   "metadata": {},
   "source": [
    "#### 48. Print the minimum and maximum representable values for each numpy scalar type (★★☆)"
   ]
  },
  {
   "cell_type": "code",
   "execution_count": 345,
   "id": "d2eb3b4a",
   "metadata": {},
   "outputs": [
    {
     "name": "stdout",
     "output_type": "stream",
     "text": [
      "-128\n",
      "127\n",
      "-32768\n",
      "32767\n",
      "-2147483648\n",
      "2147483647\n",
      "-3.4028235e+38\n",
      "3.4028235e+38\n"
     ]
    }
   ],
   "source": [
    "print(np.iinfo(np.int8).min)\n",
    "print(np.iinfo(np.int8).max)\n",
    "\n",
    "print(np.iinfo(np.int16).min)\n",
    "print(np.iinfo(np.int16).max)\n",
    "\n",
    "print(np.iinfo(np.int32).min)\n",
    "print(np.iinfo(np.int32).max)\n",
    "\n",
    "print(np.finfo(np.float32).min)\n",
    "print(np.finfo(np.float32).max)"
   ]
  },
  {
   "cell_type": "markdown",
   "id": "0a0819d5",
   "metadata": {},
   "source": [
    "#### 49. How to print all the values of an array? (★★☆)"
   ]
  },
  {
   "cell_type": "code",
   "execution_count": 352,
   "id": "d76dbf55",
   "metadata": {},
   "outputs": [
    {
     "name": "stdout",
     "output_type": "stream",
     "text": [
      "[ 0  1  2  3  4  5  6  7  8  9 10 11 12 13 14 15 16 17 18 19 20 21 22 23\n",
      " 24 25 26 27 28 29 30 31 32 33 34 35 36 37 38 39 40 41 42 43 44 45 46 47\n",
      " 48 49 50 51 52 53 54 55 56 57 58 59 60 61 62 63 64 65 66 67 68 69 70 71\n",
      " 72 73 74 75 76 77 78 79 80 81 82 83 84 85 86 87 88 89 90 91 92 93 94 95\n",
      " 96 97 98 99]\n"
     ]
    }
   ],
   "source": [
    "np.set_printoptions(threshold=1000)\n",
    "\n",
    "a = np.arange(100)\n",
    "print(a)"
   ]
  },
  {
   "cell_type": "markdown",
   "id": "50c62214",
   "metadata": {},
   "source": [
    "#### 50. How to find the closest value (to a given scalar) in a vector? (★★☆)"
   ]
  },
  {
   "cell_type": "code",
   "execution_count": null,
   "id": "24b45bb5",
   "metadata": {},
   "outputs": [
    {
     "name": "stdout",
     "output_type": "stream",
     "text": [
      "[20 15 40 33 66 10 58 33 32 75]\n"
     ]
    },
    {
     "data": {
      "text/plain": [
       "np.int64(10)"
      ]
     },
     "execution_count": 357,
     "metadata": {},
     "output_type": "execute_result"
    }
   ],
   "source": [
    "arr = np.random.randint(1, 100, size=10)\n",
    "scalar = 10\n",
    "\n",
    "print(arr)\n",
    "result = arr[np.argmin(np.abs(scalar - arr))]\n",
    "print(result)"
   ]
  },
  {
   "cell_type": "markdown",
   "id": "4c5a5116",
   "metadata": {},
   "source": [
    "#### 51. Create a structured array representing a position (x,y) and a color (r,g,b) (★★☆)"
   ]
  },
  {
   "cell_type": "code",
   "execution_count": 361,
   "id": "275806b2",
   "metadata": {},
   "outputs": [
    {
     "name": "stdout",
     "output_type": "stream",
     "text": [
      "[(([0.], [0.]), ([0.], [0.], [0.])) (([0.], [0.]), ([0.], [0.], [0.]))\n",
      " (([0.], [0.]), ([0.], [0.], [0.])) (([0.], [0.]), ([0.], [0.], [0.]))\n",
      " (([0.], [0.]), ([0.], [0.], [0.])) (([0.], [0.]), ([0.], [0.], [0.]))\n",
      " (([0.], [0.]), ([0.], [0.], [0.])) (([0.], [0.]), ([0.], [0.], [0.]))\n",
      " (([0.], [0.]), ([0.], [0.], [0.])) (([0.], [0.]), ([0.], [0.], [0.]))]\n"
     ]
    }
   ],
   "source": [
    "arr = np.zeros(10, [\n",
    "    (\"position\", [(\"x\", float, 1), (\"y\", float, 1)]),\n",
    "    (\"color\", [(\"r\", float, 1), (\"g\", float, 1), (\"b\", float, 1)]),\n",
    "])\n",
    "\n",
    "print(arr)"
   ]
  },
  {
   "cell_type": "markdown",
   "id": "1d3399ca",
   "metadata": {},
   "source": [
    "#### 52. Consider a random vector with shape (100,2) representing coordinates, find point by point distances (★★☆)"
   ]
  },
  {
   "cell_type": "code",
   "execution_count": 372,
   "id": "67eae5bf",
   "metadata": {},
   "outputs": [
    {
     "name": "stdout",
     "output_type": "stream",
     "text": [
      "(100,)\n",
      "(100, 1)\n",
      "[[0.         0.46329042 0.29322288 ... 0.32407432 0.18702968 0.40737867]\n",
      " [0.46329042 0.         0.4549868  ... 0.78704391 0.48057777 0.67848578]\n",
      " [0.29322288 0.4549868  0.         ... 0.49601041 0.12050419 0.22385109]\n",
      " ...\n",
      " [0.32407432 0.78704391 0.49601041 ... 0.         0.3821646  0.44758043]\n",
      " [0.18702968 0.48057777 0.12050419 ... 0.3821646  0.         0.2373323 ]\n",
      " [0.40737867 0.67848578 0.22385109 ... 0.44758043 0.2373323  0.        ]]\n"
     ]
    }
   ],
   "source": [
    "vec = np.random.random(size=(100, 2))\n",
    "# print(vec)\n",
    "\n",
    "X, Y = vec[:, 0], vec[:, 1]\n",
    "\n",
    "print(X.shape)\n",
    "print(X[:, np.newaxis].shape)\n",
    "\n",
    "dist = np.sqrt((X[:, np.newaxis] - X)**2 + (Y[:, np.newaxis] - Y)**2)\n",
    "print(dist)"
   ]
  },
  {
   "cell_type": "code",
   "execution_count": 373,
   "id": "697c4093",
   "metadata": {},
   "outputs": [
    {
     "name": "stdout",
     "output_type": "stream",
     "text": [
      "[[0.         0.46006552 0.37658728 0.39600013 0.44602423 0.39173968\n",
      "  0.35278541 0.2373382  0.11858325 0.04793282]\n",
      " [0.46006552 0.         0.59267264 0.65173532 0.77498818 0.85178637\n",
      "  0.70627523 0.28204154 0.44351812 0.50154696]\n",
      " [0.37658728 0.59267264 0.         0.0652479  0.79969097 0.54872783\n",
      "  0.19290484 0.32683816 0.26387751 0.40397218]\n",
      " [0.39600013 0.65173532 0.0652479  0.         0.7999022  0.51618426\n",
      "  0.14411858 0.37992638 0.29203681 0.41681193]\n",
      " [0.44602423 0.77498818 0.79969097 0.7999022  0.         0.43184438\n",
      "  0.70123734 0.65930854 0.56250214 0.40563573]\n",
      " [0.39173968 0.85178637 0.54872783 0.51618426 0.43184438 0.\n",
      "  0.37759512 0.60949568 0.43979504 0.35141096]\n",
      " [0.35278541 0.70627523 0.19290484 0.14411858 0.70123734 0.37759512\n",
      "  0.         0.42424759 0.28262772 0.35722841]\n",
      " [0.2373382  0.28204154 0.32683816 0.37992638 0.65930854 0.60949568\n",
      "  0.42424759 0.         0.17335843 0.2852626 ]\n",
      " [0.11858325 0.44351812 0.26387751 0.29203681 0.56250214 0.43979504\n",
      "  0.28262772 0.17335843 0.         0.15705904]\n",
      " [0.04793282 0.50154696 0.40397218 0.41681193 0.40563573 0.35141096\n",
      "  0.35722841 0.2852626  0.15705904 0.        ]]\n"
     ]
    }
   ],
   "source": [
    "# another way\n",
    "\n",
    "Z = np.random.random((10,2))\n",
    "X,Y = np.atleast_2d(Z[:,0], Z[:,1])\n",
    "D = np.sqrt( (X-X.T)**2 + (Y-Y.T)**2)\n",
    "print(D)"
   ]
  },
  {
   "cell_type": "markdown",
   "id": "003ff920",
   "metadata": {},
   "source": [
    "#### 53. How to convert a float (32 bits) array into an integer (32 bits) array in place?"
   ]
  },
  {
   "cell_type": "code",
   "execution_count": null,
   "id": "76245e6d",
   "metadata": {},
   "outputs": [
    {
     "data": {
      "text/plain": [
       "array([1065353216, 1073741824, 1077936128, 1082130432], dtype=int32)"
      ]
     },
     "execution_count": 375,
     "metadata": {},
     "output_type": "execute_result"
    }
   ],
   "source": [
    "x = np.array([1, 2, 3, 4], dtype=\"float32\")\n",
    "\n",
    "x.view(np.int32) # sharesame memory"
   ]
  },
  {
   "cell_type": "code",
   "execution_count": null,
   "id": "3ee4ee68",
   "metadata": {},
   "outputs": [
    {
     "name": "stdout",
     "output_type": "stream",
     "text": [
      "[30.98525    11.239109    0.38600263 88.759964   15.684301   48.78385\n",
      "  5.540769   81.1903     75.60737    81.9757    ]\n",
      "[30 11  0 88 15 48  5 81 75 81]\n"
     ]
    }
   ],
   "source": [
    "x = (np.random.rand(10)*100).astype(np.float32)\n",
    "print(x)\n",
    "\n",
    "y = x.view(np.int32)\n",
    "y[:] = x  # need to assign\n",
    "\n",
    "print(y)"
   ]
  },
  {
   "cell_type": "markdown",
   "id": "0c99eac4",
   "metadata": {},
   "source": [
    "#### 54. How to read the following file? (★★☆)\n",
    "```\n",
    "1, 2, 3, 4, 5\n",
    "6,  ,  , 7, 8\n",
    " ,  , 9,10,11\n",
    "```"
   ]
  },
  {
   "cell_type": "code",
   "execution_count": null,
   "id": "55c6bf8c",
   "metadata": {},
   "outputs": [
    {
     "data": {
      "text/plain": [
       "array([[ 1,  2,  3,  4,  5],\n",
       "       [ 6, -1, -1,  7,  8],\n",
       "       [-1, -1,  9, 10, 11]], dtype=int8)"
      ]
     },
     "execution_count": 394,
     "metadata": {},
     "output_type": "execute_result"
    }
   ],
   "source": [
    "from io import StringIO\n",
    "\n",
    "s = StringIO('''\n",
    "            1, 2, 3, 4, 5\n",
    "            6,  ,  , 7, 8\n",
    "            ,  , 9,10,11\n",
    "''')\n",
    "\n",
    "np.genfromtxt(s, delimiter=\",\", dtype=np.int8)"
   ]
  },
  {
   "cell_type": "markdown",
   "id": "8cd30360",
   "metadata": {},
   "source": [
    "#### 55. What is the equivalent of enumerate for numpy arrays? (★★☆)"
   ]
  },
  {
   "cell_type": "code",
   "execution_count": 399,
   "id": "608315ba",
   "metadata": {},
   "outputs": [
    {
     "name": "stdout",
     "output_type": "stream",
     "text": [
      "(0,) 1\n",
      "(1,) 2\n",
      "(2,) 3\n",
      "(3,) 4\n",
      "********\n",
      "(0,) 1\n",
      "(1,) 2\n",
      "(2,) 3\n",
      "(3,) 4\n"
     ]
    }
   ],
   "source": [
    "x = np.array([1, 2, 3, 4])\n",
    "\n",
    "for idx, val in np.ndenumerate(x):\n",
    "    print(idx, val)\n",
    "\n",
    "print(\"*\"*8)\n",
    "# or\n",
    "for idx in np.ndindex(x.shape):\n",
    "    print(idx, x[idx])"
   ]
  },
  {
   "cell_type": "markdown",
   "id": "4823a294",
   "metadata": {},
   "source": [
    "#### 56. Generate a generic 2D Gaussian-like array (★★☆)"
   ]
  },
  {
   "cell_type": "code",
   "execution_count": 402,
   "id": "9b3b682d",
   "metadata": {},
   "outputs": [
    {
     "name": "stdout",
     "output_type": "stream",
     "text": [
      "(10, 10) (10, 10)\n",
      "[[2.71828183 2.23104288 1.92383577 1.742909   1.65893004 1.65893004\n",
      "  1.742909   1.92383577 2.23104288 2.71828183]\n",
      " [2.23104288 1.83113917 1.57899745 1.43050094 1.36157481 1.36157481\n",
      "  1.43050094 1.57899745 1.83113917 2.23104288]\n",
      " [1.92383577 1.57899745 1.36157481 1.23352576 1.17409053 1.17409053\n",
      "  1.23352576 1.36157481 1.57899745 1.92383577]\n",
      " [1.742909   1.43050094 1.23352576 1.11751907 1.06367341 1.06367341\n",
      "  1.11751907 1.23352576 1.43050094 1.742909  ]\n",
      " [1.65893004 1.36157481 1.17409053 1.06367341 1.0124222  1.0124222\n",
      "  1.06367341 1.17409053 1.36157481 1.65893004]\n",
      " [1.65893004 1.36157481 1.17409053 1.06367341 1.0124222  1.0124222\n",
      "  1.06367341 1.17409053 1.36157481 1.65893004]\n",
      " [1.742909   1.43050094 1.23352576 1.11751907 1.06367341 1.06367341\n",
      "  1.11751907 1.23352576 1.43050094 1.742909  ]\n",
      " [1.92383577 1.57899745 1.36157481 1.23352576 1.17409053 1.17409053\n",
      "  1.23352576 1.36157481 1.57899745 1.92383577]\n",
      " [2.23104288 1.83113917 1.57899745 1.43050094 1.36157481 1.36157481\n",
      "  1.43050094 1.57899745 1.83113917 2.23104288]\n",
      " [2.71828183 2.23104288 1.92383577 1.742909   1.65893004 1.65893004\n",
      "  1.742909   1.92383577 2.23104288 2.71828183]]\n"
     ]
    }
   ],
   "source": [
    "\"\"\"\n",
    "Gaussian formula\n",
    "f(x) = exp(-(x - μ)² / (2σ²))\n",
    "\n",
    "mean(mu) = 0\n",
    "std(sigma) = 1\n",
    "\"\"\"\n",
    "\n",
    "X, Y = np.meshgrid(np.linspace(-1,1,10), np.linspace(-1,1,10))\n",
    "print(X.shape, Y.shape)\n",
    "\n",
    "mu = 0\n",
    "sigma = 1\n",
    "D = np.sqrt(X*X + Y*Y)\n",
    "\n",
    "G = np.exp((D - mu)**2 / (2 * sigma**2))\n",
    "\n",
    "print(G)\n",
    "\n"
   ]
  },
  {
   "cell_type": "markdown",
   "id": "2dd8891d",
   "metadata": {},
   "source": [
    "#### 57. How to randomly place p elements in a 2D array? (★★☆)"
   ]
  },
  {
   "cell_type": "code",
   "execution_count": 411,
   "id": "a55c52dc",
   "metadata": {},
   "outputs": [
    {
     "name": "stdout",
     "output_type": "stream",
     "text": [
      "[[0. 0. 0. 0. 0. 0. 0. 0. 0. 0.]\n",
      " [0. 0. 0. 0. 0. 0. 0. 0. 0. 0.]\n",
      " [0. 0. 0. 0. 0. 0. 0. 0. 0. 1.]\n",
      " [0. 0. 0. 0. 0. 0. 0. 0. 0. 0.]\n",
      " [0. 0. 0. 0. 0. 0. 0. 0. 0. 0.]\n",
      " [0. 0. 1. 0. 0. 0. 0. 0. 0. 0.]\n",
      " [0. 0. 0. 0. 0. 0. 0. 0. 0. 0.]\n",
      " [0. 0. 0. 0. 0. 0. 0. 0. 0. 0.]\n",
      " [0. 0. 0. 0. 0. 0. 0. 0. 0. 0.]\n",
      " [0. 0. 1. 0. 0. 0. 0. 0. 0. 0.]]\n"
     ]
    }
   ],
   "source": [
    "n = 10\n",
    "Z = np.zeros(shape=(n,n))\n",
    "\n",
    "np.put(Z, ind=np.random.choice(range(n*n), 3, replace=False), v=1)\n",
    "print(Z)"
   ]
  },
  {
   "cell_type": "code",
   "execution_count": 409,
   "id": "33ad9d88",
   "metadata": {},
   "outputs": [
    {
     "name": "stdout",
     "output_type": "stream",
     "text": [
      "Replaces specified elements of an array with given values.\n",
      "\n",
      "The indexing works on the flattened target array. `put` is roughly\n",
      "equivalent to:\n",
      "\n",
      "::\n",
      "\n",
      "    a.flat[ind] = v\n",
      "\n",
      "Parameters\n",
      "----------\n",
      "a : ndarray\n",
      "    Target array.\n",
      "ind : array_like\n",
      "    Target indices, interpreted as integers.\n",
      "v : array_like\n",
      "    Values to place in `a` at target indices. If `v` is shorter than\n",
      "    `ind` it will be repeated as necessary.\n",
      "mode : {'raise', 'wrap', 'clip'}, optional\n",
      "    Specifies how out-of-bounds indices will behave.\n",
      "\n",
      "    * 'raise' -- raise an error (default)\n",
      "    * 'wrap' -- wrap around\n",
      "    * 'clip' -- clip to the range\n",
      "\n",
      "    'clip' mode means that all indices that are too large are replaced\n",
      "    by the index that addresses the last element along that axis. Note\n",
      "    that this disables indexing with negative numbers. In 'raise' mode,\n",
      "    if an exception occurs the target array may still be modified.\n",
      "\n",
      "See Also\n",
      "--------\n",
      "putmask, place\n",
      "put_along_axis : Put elements by matching the array and the index arrays\n",
      "\n",
      "Examples\n",
      "--------\n",
      ">>> import numpy as np\n",
      ">>> a = np.arange(5)\n",
      ">>> np.put(a, [0, 2], [-44, -55])\n",
      ">>> a\n",
      "array([-44,   1, -55,   3,   4])\n",
      "\n",
      ">>> a = np.arange(5)\n",
      ">>> np.put(a, 22, -5, mode='clip')\n",
      ">>> a\n",
      "array([ 0,  1,  2,  3, -5])\n"
     ]
    }
   ],
   "source": [
    "np.info(np.put)"
   ]
  },
  {
   "cell_type": "markdown",
   "id": "270b6834",
   "metadata": {},
   "source": [
    "#### 58. Subtract the mean of each row of a matrix (★★☆)"
   ]
  },
  {
   "cell_type": "code",
   "execution_count": 422,
   "id": "814080c9",
   "metadata": {},
   "outputs": [
    {
     "name": "stdout",
     "output_type": "stream",
     "text": [
      "[[3 4 1 3 3]\n",
      " [4 1 1 3 2]\n",
      " [3 3 3 3 4]\n",
      " [1 4 4 4 3]\n",
      " [2 1 2 4 4]]\n",
      "[2.8 2.2 3.2 3.2 2.6]\n",
      "[[ 0.2  1.2 -1.8  0.2  0.2]\n",
      " [ 1.8 -1.2 -1.2  0.8 -0.2]\n",
      " [-0.2 -0.2 -0.2 -0.2  0.8]\n",
      " [-2.2  0.8  0.8  0.8 -0.2]\n",
      " [-0.6 -1.6 -0.6  1.4  1.4]]\n"
     ]
    }
   ],
   "source": [
    "np.random.seed(42)\n",
    "\n",
    "n_rows = 5\n",
    "n_cols = 5\n",
    "\n",
    "matrix = np.random.randint(1, 5, size=(n_rows, n_cols))\n",
    "print(matrix)\n",
    "\n",
    "means = np.sum(matrix, axis=1) / n_rows\n",
    "print(means)\n",
    "\n",
    "result = matrix - means[:, np.newaxis]\n",
    "print(result)\n"
   ]
  },
  {
   "cell_type": "code",
   "execution_count": null,
   "id": "1fec8df5",
   "metadata": {},
   "outputs": [
    {
     "name": "stdout",
     "output_type": "stream",
     "text": [
      "[[ 0.2  1.2 -1.8  0.2  0.2]\n",
      " [ 1.8 -1.2 -1.2  0.8 -0.2]\n",
      " [-0.2 -0.2 -0.2 -0.2  0.8]\n",
      " [-2.2  0.8  0.8  0.8 -0.2]\n",
      " [-0.6 -1.6 -0.6  1.4  1.4]]\n"
     ]
    }
   ],
   "source": [
    "# another easy way\n",
    "\n",
    "Y = matrix - matrix.mean(axis=1, keepdims=True)\n",
    "print(Y)"
   ]
  },
  {
   "cell_type": "markdown",
   "id": "52c92916",
   "metadata": {},
   "source": [
    "#### 59. How to sort an array by the nth column? (★★☆)"
   ]
  },
  {
   "cell_type": "code",
   "execution_count": 429,
   "id": "c6ebac6d",
   "metadata": {},
   "outputs": [
    {
     "name": "stdout",
     "output_type": "stream",
     "text": [
      "[[6 1 4 4 8]\n",
      " [4 6 3 5 8]\n",
      " [7 9 9 2 7]\n",
      " [8 8 9 2 6]\n",
      " [9 5 4 1 4]]\n",
      "Sorted by 2nd column:\n",
      "[[6 1 4 4 8]\n",
      " [9 5 4 1 4]\n",
      " [4 6 3 5 8]\n",
      " [8 8 9 2 6]\n",
      " [7 9 9 2 7]]\n"
     ]
    }
   ],
   "source": [
    "np.random.seed(0)\n",
    "arr = np.random.randint(1, 10, size=(5,5))\n",
    "print(arr)\n",
    "print(\"Sorted by 2nd column:\")\n",
    "print(arr[arr[:, 1].argsort()])\n"
   ]
  },
  {
   "cell_type": "markdown",
   "id": "05cef60b",
   "metadata": {},
   "source": [
    "#### 60. How to tell if a given 2D array has null columns? (★★☆)"
   ]
  },
  {
   "cell_type": "code",
   "execution_count": 442,
   "id": "7979b467",
   "metadata": {},
   "outputs": [
    {
     "name": "stdout",
     "output_type": "stream",
     "text": [
      "True\n"
     ]
    },
    {
     "data": {
      "text/plain": [
       "array([False, False,  True])"
      ]
     },
     "execution_count": 442,
     "metadata": {},
     "output_type": "execute_result"
    }
   ],
   "source": [
    "# one way\n",
    "np.random.seed(0)\n",
    "arr1 = np.random.randint(1, 10, size=(5,5))\n",
    "arr1[:, 3] = 0\n",
    "print((~Z.any(axis=0)).any())\n",
    "\n",
    "# another way\n",
    "arr2 = np.array([\n",
    "    [0,1,np.nan],\n",
    "    [1,2,np.nan],\n",
    "    [4,5,np.nan]\n",
    "])\n",
    "\n",
    "np.isnan(arr2).all(axis=0)"
   ]
  },
  {
   "cell_type": "markdown",
   "id": "4891fdf5",
   "metadata": {},
   "source": [
    "#### 61. Find the nearest value from a given value in an array (★★☆)"
   ]
  },
  {
   "cell_type": "code",
   "execution_count": null,
   "id": "b38950fd",
   "metadata": {},
   "outputs": [
    {
     "name": "stdout",
     "output_type": "stream",
     "text": [
      "[0.37454012 0.95071431 0.73199394 0.59865848 0.15601864 0.15599452\n",
      " 0.05808361 0.86617615 0.60111501 0.70807258]\n",
      "0.5986584841970366\n",
      "0.5986584841970366\n"
     ]
    }
   ],
   "source": [
    "np.random.seed(42)\n",
    "x = np.random.uniform(low=0, high=1, size=10)\n",
    "print(x)\n",
    "\n",
    "val = 0.5\n",
    "\n",
    "# two ways\n",
    "print(x[np.argmin(np.abs(x-val))])\n",
    "print(x.flat[np.abs(x-val).argmin()])"
   ]
  },
  {
   "cell_type": "markdown",
   "id": "b34bfbc7",
   "metadata": {},
   "source": [
    "#### 62. Considering two arrays with shape (1,3) and (3,1), how to compute their sum using an iterator? (★★☆)"
   ]
  },
  {
   "cell_type": "code",
   "execution_count": 460,
   "id": "aa7eb006",
   "metadata": {},
   "outputs": [
    {
     "name": "stdout",
     "output_type": "stream",
     "text": [
      "[[7 4 8]] [[5]\n",
      " [7]\n",
      " [3]]\n",
      "[[12  9 13]\n",
      " [14 11 15]\n",
      " [10  7 11]]\n",
      "[[12  9 13]\n",
      " [14 11 15]\n",
      " [10  7 11]]\n"
     ]
    }
   ],
   "source": [
    "np.random.seed(42)\n",
    "x = np.random.randint(1, 10, size=(1,3))\n",
    "y = np.random.randint(1, 10, size=(3,1))\n",
    "print(x, y)\n",
    "print(x+y)\n",
    "\n",
    "it = np.nditer([x, y, None])\n",
    "\n",
    "for x, y, z in it: z[...] = x+y\n",
    "print(it.operands[2])"
   ]
  },
  {
   "cell_type": "markdown",
   "id": "77a27b83",
   "metadata": {},
   "source": [
    "#### 63. Create an array class that has a name attribute (★★☆)"
   ]
  },
  {
   "cell_type": "code",
   "execution_count": 462,
   "id": "a2a83936",
   "metadata": {},
   "outputs": [
    {
     "name": "stdout",
     "output_type": "stream",
     "text": [
      "[0 1 2 3 4 5 6 7 8 9]\n",
      "range_10\n"
     ]
    }
   ],
   "source": [
    "class NamedArray(np.ndarray):\n",
    "    def __new__(cls, array, name=\"no name\"):\n",
    "        obj = np.asarray(array).view(cls)\n",
    "        obj.name = name\n",
    "        return obj\n",
    "\n",
    "    def __array_finalize__(self, obj):\n",
    "        if obj is None: return \n",
    "        self.name = getattr(obj, \"name\", \"no name\")\n",
    "\n",
    "\n",
    "Z = NamedArray(np.arange(10), \"range_10\")\n",
    "print(Z)\n",
    "print(Z.name)"
   ]
  },
  {
   "cell_type": "markdown",
   "id": "f7f5d229",
   "metadata": {},
   "source": [
    "#### 64. Consider a given vector, how to add 1 to each element indexed by a second vector (be careful with repeated indices)? (★★★)"
   ]
  },
  {
   "cell_type": "code",
   "execution_count": 465,
   "id": "9b8f8f48",
   "metadata": {},
   "outputs": [
    {
     "name": "stdout",
     "output_type": "stream",
     "text": [
      "[1. 2. 2. 2. 2. 1. 1. 1. 1. 1.]\n"
     ]
    }
   ],
   "source": [
    "Z = np.ones(10)\n",
    "I = np.array([1, 2, 3, 4])\n",
    "\n",
    "Z += np.bincount(I, minlength=len(ones))\n",
    "print(Z) "
   ]
  },
  {
   "cell_type": "code",
   "execution_count": 466,
   "id": "ac78182c",
   "metadata": {},
   "outputs": [
    {
     "name": "stdout",
     "output_type": "stream",
     "text": [
      "bincount(x, /, weights=None, minlength=0)\n",
      "\n",
      "Count number of occurrences of each value in array of non-negative ints.\n",
      "\n",
      "The number of bins (of size 1) is one larger than the largest value in\n",
      "`x`. If `minlength` is specified, there will be at least this number\n",
      "of bins in the output array (though it will be longer if necessary,\n",
      "depending on the contents of `x`).\n",
      "Each bin gives the number of occurrences of its index value in `x`.\n",
      "If `weights` is specified the input array is weighted by it, i.e. if a\n",
      "value ``n`` is found at position ``i``, ``out[n] += weight[i]`` instead\n",
      "of ``out[n] += 1``.\n",
      "\n",
      "Parameters\n",
      "----------\n",
      "x : array_like, 1 dimension, nonnegative ints\n",
      "    Input array.\n",
      "weights : array_like, optional\n",
      "    Weights, array of the same shape as `x`.\n",
      "minlength : int, optional\n",
      "    A minimum number of bins for the output array.\n",
      "\n",
      "Returns\n",
      "-------\n",
      "out : ndarray of ints\n",
      "    The result of binning the input array.\n",
      "    The length of `out` is equal to ``np.amax(x)+1``.\n",
      "\n",
      "Raises\n",
      "------\n",
      "ValueError\n",
      "    If the input is not 1-dimensional, or contains elements with negative\n",
      "    values, or if `minlength` is negative.\n",
      "TypeError\n",
      "    If the type of the input is float or complex.\n",
      "\n",
      "See Also\n",
      "--------\n",
      "histogram, digitize, unique\n",
      "\n",
      "Examples\n",
      "--------\n",
      ">>> import numpy as np\n",
      ">>> np.bincount(np.arange(5))\n",
      "array([1, 1, 1, 1, 1])\n",
      ">>> np.bincount(np.array([0, 1, 1, 3, 2, 1, 7]))\n",
      "array([1, 3, 1, 1, 0, 0, 0, 1])\n",
      "\n",
      ">>> x = np.array([0, 1, 1, 3, 2, 1, 7, 23])\n",
      ">>> np.bincount(x).size == np.amax(x)+1\n",
      "True\n",
      "\n",
      "The input array needs to be of integer dtype, otherwise a\n",
      "TypeError is raised:\n",
      "\n",
      ">>> np.bincount(np.arange(5, dtype=float))\n",
      "Traceback (most recent call last):\n",
      "  ...\n",
      "TypeError: Cannot cast array data from dtype('float64') to dtype('int64')\n",
      "according to the rule 'safe'\n",
      "\n",
      "A possible use of ``bincount`` is to perform sums over\n",
      "variable-size chunks of an array, using the ``weights`` keyword.\n",
      "\n",
      ">>> w = np.array([0.3, 0.5, 0.2, 0.7, 1., -0.6]) # weights\n",
      ">>> x = np.array([0, 1, 1, 2, 2, 2])\n",
      ">>> np.bincount(x,  weights=w)\n",
      "array([ 0.3,  0.7,  1.1])\n"
     ]
    }
   ],
   "source": [
    "np.info(np.bincount)"
   ]
  },
  {
   "cell_type": "code",
   "execution_count": 469,
   "id": "249edc56",
   "metadata": {},
   "outputs": [
    {
     "name": "stdout",
     "output_type": "stream",
     "text": [
      "[1. 2. 2. 2. 2. 1. 1. 1. 1. 1.]\n"
     ]
    }
   ],
   "source": [
    "# another way\n",
    "Z = np.ones(10)\n",
    "I = np.array([1, 2, 3, 4])\n",
    "np.add.at(Z, I, 1)\n",
    "print(Z)"
   ]
  },
  {
   "cell_type": "markdown",
   "id": "b067fca8",
   "metadata": {},
   "source": [
    "#### 65. How to accumulate elements of a vector (X) to an array (F) based on an index list (I)? (★★★)"
   ]
  },
  {
   "cell_type": "code",
   "execution_count": 477,
   "id": "f983f8ba",
   "metadata": {},
   "outputs": [
    {
     "name": "stdout",
     "output_type": "stream",
     "text": [
      "[ 0. 40.  0. 60.  0. 50.  0.  0.  0.  0.]\n"
     ]
    }
   ],
   "source": [
    "\"\"\"\n",
    "Goal: Add X[i] to F[I[i]] for each i\n",
    "\"\"\"\n",
    "\n",
    "X = np.array([10, 20, 30, 40, 50])\n",
    "I = np.array([1, 3, 1, 3, 5])\n",
    "F = np.zeros(10)\n",
    "\n",
    "np.add.at(F, I, X)\n",
    "\n",
    "print(F)"
   ]
  },
  {
   "cell_type": "code",
   "execution_count": 480,
   "id": "c84da549",
   "metadata": {},
   "outputs": [
    {
     "name": "stdout",
     "output_type": "stream",
     "text": [
      "[ 0. 40.  0. 60.  0. 50.]\n"
     ]
    }
   ],
   "source": [
    "X = np.array([10, 20, 30, 40, 50])\n",
    "I = np.array([1, 3, 1, 3, 5])\n",
    "F = np.bincount(I, weights=X)\n",
    "print(F)"
   ]
  },
  {
   "cell_type": "markdown",
   "id": "765e2b8e",
   "metadata": {},
   "source": [
    "#### 66. Considering a (w,h,3) image of (dtype=ubyte), compute the number of unique colors (★★☆)"
   ]
  },
  {
   "cell_type": "code",
   "execution_count": null,
   "id": "7572d90d",
   "metadata": {},
   "outputs": [
    {
     "name": "stdout",
     "output_type": "stream",
     "text": [
      "(256, 256, 3)\n"
     ]
    },
    {
     "data": {
      "text/plain": [
       "27"
      ]
     },
     "execution_count": 490,
     "metadata": {},
     "output_type": "execute_result"
    }
   ],
   "source": [
    "image = np.random.randint(1, 4, size=(256, 256, 3)).astype(\"ubyte\")\n",
    "\n",
    "print(image.shape)\n",
    "\n",
    "len(np.unique(image.reshape((-1, 3)), axis=0))  # find unique rows\n"
   ]
  },
  {
   "cell_type": "markdown",
   "id": "02743317",
   "metadata": {},
   "source": [
    "#### 67. Considering a four dimensions array, how to get sum over the last two axis at once? (★★★)"
   ]
  },
  {
   "cell_type": "code",
   "execution_count": 494,
   "id": "980b5c45",
   "metadata": {},
   "outputs": [
    {
     "name": "stdout",
     "output_type": "stream",
     "text": [
      "[[11 13]\n",
      " [14 12]]\n"
     ]
    }
   ],
   "source": [
    "arr = np.random.randint(1, 5, size=(2, 2, 2, 2))\n",
    "\n",
    "print(arr.sum(axis=(-2, -1)))"
   ]
  },
  {
   "cell_type": "markdown",
   "id": "fe8b8107",
   "metadata": {},
   "source": [
    "#### 68. Considering a one-dimensional vector D, how to compute means of subsets of D using a vector S of same size describing subset  indices? (★★★)"
   ]
  },
  {
   "cell_type": "code",
   "execution_count": 501,
   "id": "9c17c8c9",
   "metadata": {},
   "outputs": [
    {
     "name": "stdout",
     "output_type": "stream",
     "text": [
      "[0.37454012 0.95071431 0.73199394 0.59865848 0.15601864 0.15599452\n",
      " 0.05808361 0.86617615 0.60111501 0.70807258 0.02058449 0.96990985\n",
      " 0.83244264 0.21233911 0.18182497 0.18340451 0.30424224 0.52475643\n",
      " 0.43194502 0.29122914 0.61185289 0.13949386 0.29214465 0.36636184\n",
      " 0.45606998 0.78517596 0.19967378 0.51423444 0.59241457 0.04645041\n",
      " 0.60754485 0.17052412 0.06505159 0.94888554 0.96563203 0.80839735\n",
      " 0.30461377 0.09767211 0.68423303 0.44015249 0.12203823 0.49517691\n",
      " 0.03438852 0.9093204  0.25877998 0.66252228 0.31171108 0.52006802\n",
      " 0.54671028 0.18485446 0.96958463 0.77513282 0.93949894 0.89482735\n",
      " 0.59789998 0.92187424 0.0884925  0.19598286 0.04522729 0.32533033\n",
      " 0.38867729 0.27134903 0.82873751 0.35675333 0.28093451 0.54269608\n",
      " 0.14092422 0.80219698 0.07455064 0.98688694 0.77224477 0.19871568\n",
      " 0.00552212 0.81546143 0.70685734 0.72900717 0.77127035 0.07404465\n",
      " 0.35846573 0.11586906 0.86310343 0.62329813 0.33089802 0.06355835\n",
      " 0.31098232 0.32518332 0.72960618 0.63755747 0.88721274 0.47221493\n",
      " 0.11959425 0.71324479 0.76078505 0.5612772  0.77096718 0.4937956\n",
      " 0.52273283 0.42754102 0.02541913 0.10789143]\n",
      "[6 0 3 3 4 6 6 3 6 2 5 1 9 8 4 5 3 9 6 8 6 0 0 8 8 3 8 2 6 5 7 8 4 0 2 9 7\n",
      " 5 7 8 3 0 0 9 3 6 1 2 0 4 0 7 0 0 1 1 5 6 4 0 0 2 1 4 9 5 6 3 6 7 0 5 7 4\n",
      " 3 1 5 5 0 8 5 2 3 3 2 9 2 2 3 6 3 8 0 7 6 1 7 0 8 8]\n",
      "[9.24446917 4.85293542 5.2808002  6.57738268 1.8051917  2.88643422\n",
      " 5.14310787 4.44794355 3.09877488 3.68103465]\n",
      "[16  7  9 13  7 10 13  8 11  6]\n",
      "Means: [0.57777932 0.69327649 0.58675558 0.50595251 0.25788453 0.28864342\n",
      " 0.39562368 0.55599294 0.28170681 0.61350578]\n"
     ]
    }
   ],
   "source": [
    "np.random.seed(42)\n",
    "\n",
    "D = np.random.uniform(0,1, 100)\n",
    "S = np.random.randint(0, 10, 100)\n",
    "\n",
    "print(D)\n",
    "print(S)\n",
    "\n",
    "sums = np.bincount(S, weights=D)  ## weighted sum over the indices in S\n",
    "print(sums)\n",
    "\n",
    "counts = np.bincount(S)\n",
    "print(counts)\n",
    "\n",
    "means = sums/counts\n",
    "print(\"Means:\", means)"
   ]
  },
  {
   "cell_type": "markdown",
   "id": "7efa1173",
   "metadata": {},
   "source": [
    "#### 69. How to get the diagonal of a dot product? (★★★)"
   ]
  },
  {
   "cell_type": "code",
   "execution_count": null,
   "id": "59fc6a51",
   "metadata": {},
   "outputs": [
    {
     "name": "stdout",
     "output_type": "stream",
     "text": [
      "[[13 18 17]\n",
      " [11 14 13]\n",
      " [14 21 19]]\n",
      "[13 14 19]\n",
      "[13 14 19]\n"
     ]
    }
   ],
   "source": [
    "np.random.seed(42)\n",
    "\n",
    "A = np.random.randint(1, 4, size=(3,3))\n",
    "B = np.random.randint(1, 4, size=(3,3))\n",
    "\n",
    "prod = np.dot(A, B)\n",
    "print(prod)\n",
    "\n",
    "# slow version\n",
    "print(np.diag(prod))\n",
    "\n",
    "# fast version: only compute the diagnonal elements\n",
    "print(sum(A*B.T, axis=1))"
   ]
  },
  {
   "cell_type": "markdown",
   "id": "b72adc30",
   "metadata": {},
   "source": [
    "#### 70. Consider the vector [1, 2, 3, 4, 5], how to build a new vector with 3 consecutive zeros interleaved between each value? (★★★)"
   ]
  },
  {
   "cell_type": "code",
   "execution_count": 519,
   "id": "94b582b4",
   "metadata": {},
   "outputs": [
    {
     "name": "stdout",
     "output_type": "stream",
     "text": [
      "17\n",
      "[1. 0. 0. 0. 2. 0. 0. 0. 3. 0. 0. 0. 4. 0. 0. 0. 5.]\n"
     ]
    }
   ],
   "source": [
    "vec = np.array([1, 2, 3, 4, 5])\n",
    "cons_zeros = 3\n",
    "\n",
    "Z = np.zeros(len(vec) + (len(vec)-1) * cons_zeros)\n",
    "print(len(Z))\n",
    "\n",
    "Z[::cons_zeros+1] = vec\n",
    "\n",
    "print(Z)"
   ]
  },
  {
   "cell_type": "markdown",
   "id": "fafa05b8",
   "metadata": {},
   "source": [
    "#### 71. Consider an array of dimension (5,5,3), how to multiply it by an array with dimensions (5,5)? (★★★)"
   ]
  },
  {
   "cell_type": "code",
   "execution_count": 523,
   "id": "0dbb5bd4",
   "metadata": {},
   "outputs": [
    {
     "name": "stdout",
     "output_type": "stream",
     "text": [
      "[[[2 2 1]\n",
      "  [3 2 3]\n",
      "  [6 4 2]\n",
      "  [4 2 6]\n",
      "  [3 3 3]]\n",
      "\n",
      " [[9 9 3]\n",
      "  [3 6 3]\n",
      "  [4 2 4]\n",
      "  [6 2 2]\n",
      "  [3 3 6]]\n",
      "\n",
      " [[3 9 9]\n",
      "  [2 6 2]\n",
      "  [3 9 3]\n",
      "  [3 2 1]\n",
      "  [4 6 4]]\n",
      "\n",
      " [[6 9 6]\n",
      "  [4 6 4]\n",
      "  [3 2 3]\n",
      "  [6 4 4]\n",
      "  [4 2 2]]\n",
      "\n",
      " [[2 6 4]\n",
      "  [6 2 4]\n",
      "  [3 2 3]\n",
      "  [4 2 2]\n",
      "  [4 6 2]]]\n"
     ]
    }
   ],
   "source": [
    "A = np.random.randint(1, 4, size=(5, 5, 3))\n",
    "B = np.random.randint(1, 4, size=(5, 5))\n",
    "\n",
    "prod = A * B[:, :, np.newaxis]\n",
    "print(prod)\n"
   ]
  },
  {
   "cell_type": "markdown",
   "id": "35a2bae5",
   "metadata": {},
   "source": [
    "#### 72. How to swap two rows of an array? (★★★)"
   ]
  },
  {
   "cell_type": "code",
   "execution_count": 525,
   "id": "d63b30c3",
   "metadata": {},
   "outputs": [
    {
     "name": "stdout",
     "output_type": "stream",
     "text": [
      "[[1 1 2 6 9]\n",
      " [8 5 1 7 5]\n",
      " [6 7 3 3 5]\n",
      " [6 9 5 1 4]\n",
      " [5 5 7 4 1]]\n",
      "[[8 5 1 7 5]\n",
      " [1 1 2 6 9]\n",
      " [6 7 3 3 5]\n",
      " [6 9 5 1 4]\n",
      " [5 5 7 4 1]]\n"
     ]
    }
   ],
   "source": [
    "x = np.random.randint(1, 10, size=(5,5))\n",
    "print(x)\n",
    "\n",
    "# row to swap\n",
    "x[[0, 1]] = x[[1, 0]]\n",
    "print(x)"
   ]
  },
  {
   "cell_type": "code",
   "execution_count": 526,
   "id": "97be3db6",
   "metadata": {},
   "outputs": [
    {
     "data": {
      "text/plain": [
       "array([[8, 5, 1, 7, 5],\n",
       "       [1, 1, 2, 6, 9]])"
      ]
     },
     "execution_count": 526,
     "metadata": {},
     "output_type": "execute_result"
    }
   ],
   "source": [
    "x[[0, 1]]"
   ]
  },
  {
   "cell_type": "markdown",
   "id": "b760fc57",
   "metadata": {},
   "source": [
    "#### 73. Consider a set of 10 triplets describing 10 triangles (with shared vertices), find the set of unique line segments composing all the  triangles (★★★)"
   ]
  },
  {
   "cell_type": "code",
   "execution_count": 540,
   "id": "01738774",
   "metadata": {},
   "outputs": [
    {
     "name": "stdout",
     "output_type": "stream",
     "text": [
      "29\n"
     ]
    }
   ],
   "source": [
    "np.random.seed(1)\n",
    "\n",
    "A = np.random.randint(1, 100, (10, 3)) # 10 triplets \n",
    "\n",
    "F = np.roll(A.repeat(2, axis=1), -1, axis=1)\n",
    "F = F.reshape(len(F)*3, 2) # get all edges\n",
    "F = np.sort(F, axis=1)  # increasing sort to take into account all similar edges\n",
    "\n",
    "G = F.view(dtype=[('p0',F.dtype),('p1',F.dtype)]) # Reinterprets the data as a structured array with named fields\n",
    "G = np.unique(G) # get the unique edges\n",
    "\n",
    "print(len(G))"
   ]
  },
  {
   "cell_type": "markdown",
   "id": "2d28cdaa",
   "metadata": {},
   "source": [
    "#### 74. Given a sorted array C that corresponds to a bincount, how to produce an array A such that np.bincount(A) == C? (★★★)"
   ]
  },
  {
   "cell_type": "code",
   "execution_count": 547,
   "id": "8423859b",
   "metadata": {},
   "outputs": [
    {
     "name": "stdout",
     "output_type": "stream",
     "text": [
      "C: [0 2 1 1 2 0 1]\n",
      "A: [1 1 2 3 4 4 6]\n"
     ]
    }
   ],
   "source": [
    "C = np.bincount([1, 1, 2, 3, 4, 4, 6])\n",
    "print(\"C:\", C)\n",
    "\n",
    "\"\"\"\n",
    "np.bincount(A) == C\n",
    "C = [0, 2, 1, 1, 2, 0, 1]\n",
    "\n",
    "A should have no 0, 2 ones ...\n",
    "\"\"\"\n",
    "\n",
    "A = np.repeat(np.arange(len(C)), C)   # reapeat vals of array in indices mentioned\n",
    "print(\"A:\", A)"
   ]
  },
  {
   "cell_type": "markdown",
   "id": "5f4cafbd",
   "metadata": {},
   "source": [
    "#### 75. How to compute averages using a sliding window over an array? (★★★)"
   ]
  },
  {
   "cell_type": "code",
   "execution_count": null,
   "id": "62d6d514",
   "metadata": {},
   "outputs": [
    {
     "name": "stdout",
     "output_type": "stream",
     "text": [
      "[1. 2. 3. 4. 5. 6. 7. 8.]\n"
     ]
    }
   ],
   "source": [
    "\"\"\"\n",
    "given a sliding window, calculate the mean and move forward\n",
    "\"\"\"\n",
    "\n",
    "def moving_average(a, n=3) :\n",
    "    ret = np.cumsum(a, dtype=float)\n",
    "    ret[n:] = ret[n:] - ret[:-n]  # get sums of window size n\n",
    "    return ret[n - 1:] / n  # calculate mean\n",
    "\n",
    "Z = np.arange(10)\n",
    "print(moving_average(Z))"
   ]
  },
  {
   "cell_type": "code",
   "execution_count": 562,
   "id": "f7ec1660",
   "metadata": {},
   "outputs": [
    {
     "name": "stdout",
     "output_type": "stream",
     "text": [
      "[1. 2. 3. 4. 5. 6. 7. 8.]\n"
     ]
    }
   ],
   "source": [
    "from numpy.lib.stride_tricks import sliding_window_view\n",
    "\n",
    "Z = np.arange(10)\n",
    "print(sliding_window_view(Z, window_shape=3).mean(axis=-1))"
   ]
  },
  {
   "cell_type": "markdown",
   "id": "575d8bb4",
   "metadata": {},
   "source": [
    "#### 76. Consider a one-dimensional array Z, build a two-dimensional array whose first row is (Z[0],Z[1],Z[2]) and each subsequent row is  shifted by 1 (last row should be (Z[-3],Z[-2],Z[-1]) (★★★)"
   ]
  },
  {
   "cell_type": "code",
   "execution_count": 583,
   "id": "2a41d341",
   "metadata": {},
   "outputs": [
    {
     "name": "stdout",
     "output_type": "stream",
     "text": [
      "[[0 1]\n",
      " [1 2]\n",
      " [2 3]\n",
      " [3 4]]\n"
     ]
    }
   ],
   "source": [
    "from numpy.lib import stride_tricks\n",
    "\n",
    "def rolling(a, window):\n",
    "    shape = (a.size - window + 1, window)\n",
    "    strides = (a.strides[0], a.strides[0])\n",
    "    return stride_tricks.as_strided(a, shape=shape, strides=strides)\n",
    "\n",
    "Z = rolling(np.arange(5), 2)\n",
    "print(Z)"
   ]
  },
  {
   "cell_type": "code",
   "execution_count": null,
   "id": "b81e0eb1",
   "metadata": {},
   "outputs": [
    {
     "name": "stdout",
     "output_type": "stream",
     "text": [
      "5\n",
      "8\n"
     ]
    }
   ],
   "source": [
    "Z = np.arange(5)\n",
    "print(Z.size)\n",
    "print(Z.strides[0])"
   ]
  },
  {
   "cell_type": "markdown",
   "id": "80dc0b2a",
   "metadata": {},
   "source": [
    "#### 77. How to negate a boolean, or to change the sign of a float inplace? (★★★)"
   ]
  },
  {
   "cell_type": "code",
   "execution_count": 569,
   "id": "6fc68014",
   "metadata": {},
   "outputs": [
    {
     "name": "stdout",
     "output_type": "stream",
     "text": [
      "[False]\n"
     ]
    }
   ],
   "source": [
    "x = np.array([True])\n",
    "\n",
    "# inplace op\n",
    "np.logical_not(x, out=x)\n",
    "\n",
    "print(x)"
   ]
  },
  {
   "cell_type": "code",
   "execution_count": 571,
   "id": "a631500a",
   "metadata": {},
   "outputs": [
    {
     "name": "stdout",
     "output_type": "stream",
     "text": [
      "Before:  [1 0 1 0 1 0 0 0 1 1 1 0 1 0 0 0 0 1 0 1 0 1 1 1 0 0 0 0 0 0 1 0 0 1 0 0 1\n",
      " 1 0 0 0 1 0 0 0 0 1 0 0 0 0 1 1 0 0 1 1 1 0 0 0 0 0 1 1 1 0 1 1 0 0 0 1 1\n",
      " 0 1 1 1 0 1 1 1 1 0 1 0 0 1 0 1 0 1 1 0 1 1 0 1 1 1]\n",
      "After:  [0 1 0 1 0 1 1 1 0 0 0 1 0 1 1 1 1 0 1 0 1 0 0 0 1 1 1 1 1 1 0 1 1 0 1 1 0\n",
      " 0 1 1 1 0 1 1 1 1 0 1 1 1 1 0 0 1 1 0 0 0 1 1 1 1 1 0 0 0 1 0 0 1 1 1 0 0\n",
      " 1 0 0 0 1 0 0 0 0 1 0 1 1 0 1 0 1 0 0 1 0 0 1 0 0 0]\n"
     ]
    }
   ],
   "source": [
    "Z = np.random.randint(0,2,100)\n",
    "print(\"Before: \", Z)\n",
    "np.logical_not(Z, out=Z)\n",
    "print(\"After: \", Z)"
   ]
  },
  {
   "cell_type": "markdown",
   "id": "7288634d",
   "metadata": {},
   "source": [
    "#### 78. Consider 2 sets of points P0,P1 describing lines (2d) and a point p, how to compute distance from p to each line i (P0[i],P1[i])? (★★★)"
   ]
  },
  {
   "cell_type": "code",
   "execution_count": null,
   "id": "d74f9a5e",
   "metadata": {},
   "outputs": [],
   "source": [
    "import matplotlib.pyplot as plt\n",
    "import seaborn as sns\n",
    "\n",
    "sns.displot(np.random.uniform(size=1000), kind=\"kde\")\n",
    "\n",
    "plt.show()"
   ]
  },
  {
   "cell_type": "code",
   "execution_count": null,
   "id": "6fee4185",
   "metadata": {},
   "outputs": [
    {
     "name": "stdout",
     "output_type": "stream",
     "text": [
      "[1. 1. 1. 1. 1. 1. 1.]\n",
      "7.0\n",
      "(3, 4, 5)\n"
     ]
    }
   ],
   "source": [
    "# what is einsum\n",
    "# efficinet way to loop and sum over elements\n",
    "\n",
    "x = np.ones(7)\n",
    "print(x)\n",
    "\n",
    "print(np.einsum(\"i->\", x))\n",
    "\n",
    "# return unsummed axes\n",
    "x = np.ones((5, 4, 3))\n",
    "x_ = np.einsum('ijk->kji', x)\n",
    "print(x_.shape)"
   ]
  },
  {
   "cell_type": "code",
   "execution_count": 48,
   "id": "affb890f",
   "metadata": {},
   "outputs": [
    {
     "name": "stdout",
     "output_type": "stream",
     "text": [
      "[[1 2]\n",
      " [3 4]]\n",
      "10\n",
      "[4 6]\n",
      "[3 7]\n",
      "[[ 5]\n",
      " [11]]\n",
      "[[ 5 11]\n",
      " [11 25]]\n",
      "5\n",
      "30\n",
      "[[ 1  4]\n",
      " [ 9 16]]\n",
      "[0.93436281 0.94296001 0.13595601] [0.34564246 0.82725596 0.8969648  0.67955885 0.76702201]\n",
      "[[0.32295546 0.7729572  0.83809055 0.63495451 0.71667684]\n",
      " [0.32592702 0.78006929 0.84580194 0.64079682 0.72327108]\n",
      " [0.04699217 0.11247042 0.12194775 0.09239011 0.10428125]]\n",
      "[[[-2.13165463 -1.78578104 -0.49913841]\n",
      "  [-0.15918534 -0.11469242  0.14957355]]\n",
      "\n",
      " [[-0.13966367  1.07341864  1.60174903]\n",
      "  [ 0.08757138 -0.29255751 -0.06230756]]\n",
      "\n",
      " [[-2.14176571 -2.91021484 -1.84760175]\n",
      "  [-0.56188138  0.0472816   0.54382568]]]\n",
      "[1 4]\n",
      "5\n"
     ]
    }
   ],
   "source": [
    "# more einsum\n",
    "\n",
    "x = np.array([[1, 2], [3, 4]])\n",
    "print(x)\n",
    "y = np.array([[1, 2]])\n",
    "\n",
    "# summation\n",
    "print(np.einsum(\"ij->\", x))\n",
    "\n",
    "# column sum\n",
    "print(np.einsum(\"ij->j\", x))\n",
    "\n",
    "# row sum\n",
    "print(np.einsum(\"ij->i\", x))\n",
    "\n",
    "# matrix multiplication\n",
    "print(np.einsum(\"ij, kj->ik\", x, y)) # no need to reshape\n",
    "\n",
    "# matrix matrix multiplication\n",
    "print(np.einsum(\"ij, kj->ik\", x, x))\n",
    "\n",
    "# dot product first row with first row of matrix\n",
    "print(np.einsum(\"i, i->\", x[0], x[0]))\n",
    "\n",
    "# dot product of matrix\n",
    "print(np.einsum(\"ij, ij->\", x, x))\n",
    "\n",
    "# hadamard product (element-wise multiplication)\n",
    "print(np.einsum(\"ij, ij->ij\", x, x))\n",
    "\n",
    "# Outer product\n",
    "a = np.random.rand((3))\n",
    "b = np.random.rand((5))\n",
    "print(a, b)\n",
    "print(np.einsum(\"i, j->ij\", a, b))\n",
    "\n",
    "# batch matrix multiplication\n",
    "a = np.random.randn(3, 2, 5)\n",
    "b = np.random.rand(3, 5, 3)\n",
    "print(np.einsum(\"ijk, ikl->ijl\", a, b))\n",
    "\n",
    "# digonal\n",
    "print(np.einsum(\"ii->i\", x))\n",
    "\n",
    "# trace\n",
    "print(np.einsum(\"ii->\", x))"
   ]
  },
  {
   "cell_type": "code",
   "execution_count": null,
   "id": "4602caa6",
   "metadata": {},
   "outputs": [
    {
     "name": "stdout",
     "output_type": "stream",
     "text": [
      "[ 1.19101151  1.70453485  4.88191785 10.67339036 12.93694601  6.06360478\n",
      "  3.87564847  3.31661724  4.07388042  6.20437202]\n"
     ]
    }
   ],
   "source": [
    "P0 = np.random.uniform(-10, 10, (10, 2))\n",
    "P1 = np.random.uniform(-10, 10, (10, 2))\n",
    "\n",
    "p = np.array([-5, 5])\n",
    "\n",
    "def compute_distance(P0, P1, p):\n",
    "    v = P1- P0 \n",
    "    v[:,[0,1]] = v[:,[1,0]]\n",
    "    v[:,1]*=-1 \n",
    "    norm = np.linalg.norm(v,axis=1)   \n",
    "    r = P0 - p\n",
    "    d = np.abs(np.einsum(\"ij,ij->i\",r,v)) / norm \n",
    "    return d\n",
    "\n",
    "print(compute_distance(P0, P1, p))"
   ]
  },
  {
   "cell_type": "markdown",
   "id": "e1880e79",
   "metadata": {},
   "source": [
    "#### 79. Consider 2 sets of points P0,P1 describing lines (2d) and a set of points P, how to compute distance from each point j (P[j]) to each line i (P0[i],P1[i])? (★★★)"
   ]
  },
  {
   "cell_type": "code",
   "execution_count": null,
   "id": "a14e151b",
   "metadata": {},
   "outputs": [],
   "source": []
  },
  {
   "cell_type": "markdown",
   "id": "b8a2a287",
   "metadata": {},
   "source": [
    "#### 80. Consider an arbitrary array, write a function that extracts a subpart with a fixed shape and centered on a given element (pad with a `fill` value when necessary) (★★★)"
   ]
  },
  {
   "cell_type": "code",
   "execution_count": null,
   "id": "86af1186",
   "metadata": {},
   "outputs": [],
   "source": []
  },
  {
   "cell_type": "markdown",
   "id": "caa64150",
   "metadata": {},
   "source": [
    "#### 81. Consider an array Z = [1,2,3,4,5,6,7,8,9,10,11,12,13,14], how to generate an array R = [[1,2,3,4], [2,3,4,5], [3,4,5,6], ..., [11,12,13,14]]? (★★★)"
   ]
  },
  {
   "cell_type": "code",
   "execution_count": null,
   "id": "4e7cc696",
   "metadata": {},
   "outputs": [],
   "source": []
  },
  {
   "cell_type": "markdown",
   "id": "9444c83b",
   "metadata": {},
   "source": [
    "#### 82. Compute a matrix rank (★★★)"
   ]
  },
  {
   "cell_type": "code",
   "execution_count": 52,
   "id": "9e5c1d64",
   "metadata": {},
   "outputs": [
    {
     "name": "stdout",
     "output_type": "stream",
     "text": [
      "2\n"
     ]
    }
   ],
   "source": [
    "\"\"\"\n",
    "Rank of matrix:\n",
    "linearly independant columns\n",
    "\"\"\"\n",
    "\n",
    "X = np.array(\n",
    "    [\n",
    "        [1, 2, 3],\n",
    "        [4, 5, 6],\n",
    "        [7, 8, 9]\n",
    "    ]\n",
    ")\n",
    "\n",
    "print(np.linalg.matrix_rank(X))"
   ]
  },
  {
   "cell_type": "code",
   "execution_count": 56,
   "id": "4a853367",
   "metadata": {},
   "outputs": [
    {
     "name": "stdout",
     "output_type": "stream",
     "text": [
      "2\n"
     ]
    }
   ],
   "source": [
    "# another way with singular value decomposition\n",
    "U, S, Vt = np.linalg.svd(X)\n",
    "rank = np.sum(S > 1e-10)\n",
    "print(rank)"
   ]
  },
  {
   "cell_type": "markdown",
   "id": "6eef9f33",
   "metadata": {},
   "source": [
    "#### 83. How to find the most frequent value in an array?"
   ]
  },
  {
   "cell_type": "code",
   "execution_count": 59,
   "id": "9fb60e52",
   "metadata": {},
   "outputs": [
    {
     "name": "stdout",
     "output_type": "stream",
     "text": [
      "5\n"
     ]
    }
   ],
   "source": [
    "arr = np.array([1,1,1,2,2,3,4,5,5,5,5])\n",
    "print(np.bincount(arr).argmax())"
   ]
  },
  {
   "cell_type": "markdown",
   "id": "65f370f9",
   "metadata": {},
   "source": [
    "#### 84. Extract all the contiguous 3x3 blocks from a random 10x10 matrix (★★★)"
   ]
  },
  {
   "cell_type": "code",
   "execution_count": 66,
   "id": "65ade1a6",
   "metadata": {},
   "outputs": [
    {
     "name": "stdout",
     "output_type": "stream",
     "text": [
      "[[1 2 1 3 2 1 4 3 2 1]\n",
      " [2 3 3 4 3 2 2 3 3 1]\n",
      " [4 1 2 3 4 4 3 2 1 3]\n",
      " [1 1 3 2 2 2 3 1 3 2]\n",
      " [3 4 1 4 1 2 3 2 4 4]\n",
      " [4 3 3 4 3 2 1 2 2 4]\n",
      " [2 3 2 4 2 3 3 3 1 2]\n",
      " [2 3 4 3 4 4 2 1 3 1]\n",
      " [4 4 4 4 2 4 4 4 3 2]\n",
      " [4 1 2 4 4 3 3 2 2 2]]\n",
      "[[[[1 2 1]\n",
      "   [2 3 3]\n",
      "   [4 1 2]]\n",
      "\n",
      "  [[2 1 3]\n",
      "   [3 3 4]\n",
      "   [1 2 3]]\n",
      "\n",
      "  [[1 3 2]\n",
      "   [3 4 3]\n",
      "   [2 3 4]]\n",
      "\n",
      "  [[3 2 1]\n",
      "   [4 3 2]\n",
      "   [3 4 4]]\n",
      "\n",
      "  [[2 1 4]\n",
      "   [3 2 2]\n",
      "   [4 4 3]]\n",
      "\n",
      "  [[1 4 3]\n",
      "   [2 2 3]\n",
      "   [4 3 2]]\n",
      "\n",
      "  [[4 3 2]\n",
      "   [2 3 3]\n",
      "   [3 2 1]]\n",
      "\n",
      "  [[3 2 1]\n",
      "   [3 3 1]\n",
      "   [2 1 3]]]\n",
      "\n",
      "\n",
      " [[[2 3 3]\n",
      "   [4 1 2]\n",
      "   [1 1 3]]\n",
      "\n",
      "  [[3 3 4]\n",
      "   [1 2 3]\n",
      "   [1 3 2]]\n",
      "\n",
      "  [[3 4 3]\n",
      "   [2 3 4]\n",
      "   [3 2 2]]\n",
      "\n",
      "  [[4 3 2]\n",
      "   [3 4 4]\n",
      "   [2 2 2]]\n",
      "\n",
      "  [[3 2 2]\n",
      "   [4 4 3]\n",
      "   [2 2 3]]\n",
      "\n",
      "  [[2 2 3]\n",
      "   [4 3 2]\n",
      "   [2 3 1]]\n",
      "\n",
      "  [[2 3 3]\n",
      "   [3 2 1]\n",
      "   [3 1 3]]\n",
      "\n",
      "  [[3 3 1]\n",
      "   [2 1 3]\n",
      "   [1 3 2]]]\n",
      "\n",
      "\n",
      " [[[4 1 2]\n",
      "   [1 1 3]\n",
      "   [3 4 1]]\n",
      "\n",
      "  [[1 2 3]\n",
      "   [1 3 2]\n",
      "   [4 1 4]]\n",
      "\n",
      "  [[2 3 4]\n",
      "   [3 2 2]\n",
      "   [1 4 1]]\n",
      "\n",
      "  [[3 4 4]\n",
      "   [2 2 2]\n",
      "   [4 1 2]]\n",
      "\n",
      "  [[4 4 3]\n",
      "   [2 2 3]\n",
      "   [1 2 3]]\n",
      "\n",
      "  [[4 3 2]\n",
      "   [2 3 1]\n",
      "   [2 3 2]]\n",
      "\n",
      "  [[3 2 1]\n",
      "   [3 1 3]\n",
      "   [3 2 4]]\n",
      "\n",
      "  [[2 1 3]\n",
      "   [1 3 2]\n",
      "   [2 4 4]]]\n",
      "\n",
      "\n",
      " [[[1 1 3]\n",
      "   [3 4 1]\n",
      "   [4 3 3]]\n",
      "\n",
      "  [[1 3 2]\n",
      "   [4 1 4]\n",
      "   [3 3 4]]\n",
      "\n",
      "  [[3 2 2]\n",
      "   [1 4 1]\n",
      "   [3 4 3]]\n",
      "\n",
      "  [[2 2 2]\n",
      "   [4 1 2]\n",
      "   [4 3 2]]\n",
      "\n",
      "  [[2 2 3]\n",
      "   [1 2 3]\n",
      "   [3 2 1]]\n",
      "\n",
      "  [[2 3 1]\n",
      "   [2 3 2]\n",
      "   [2 1 2]]\n",
      "\n",
      "  [[3 1 3]\n",
      "   [3 2 4]\n",
      "   [1 2 2]]\n",
      "\n",
      "  [[1 3 2]\n",
      "   [2 4 4]\n",
      "   [2 2 4]]]\n",
      "\n",
      "\n",
      " [[[3 4 1]\n",
      "   [4 3 3]\n",
      "   [2 3 2]]\n",
      "\n",
      "  [[4 1 4]\n",
      "   [3 3 4]\n",
      "   [3 2 4]]\n",
      "\n",
      "  [[1 4 1]\n",
      "   [3 4 3]\n",
      "   [2 4 2]]\n",
      "\n",
      "  [[4 1 2]\n",
      "   [4 3 2]\n",
      "   [4 2 3]]\n",
      "\n",
      "  [[1 2 3]\n",
      "   [3 2 1]\n",
      "   [2 3 3]]\n",
      "\n",
      "  [[2 3 2]\n",
      "   [2 1 2]\n",
      "   [3 3 3]]\n",
      "\n",
      "  [[3 2 4]\n",
      "   [1 2 2]\n",
      "   [3 3 1]]\n",
      "\n",
      "  [[2 4 4]\n",
      "   [2 2 4]\n",
      "   [3 1 2]]]\n",
      "\n",
      "\n",
      " [[[4 3 3]\n",
      "   [2 3 2]\n",
      "   [2 3 4]]\n",
      "\n",
      "  [[3 3 4]\n",
      "   [3 2 4]\n",
      "   [3 4 3]]\n",
      "\n",
      "  [[3 4 3]\n",
      "   [2 4 2]\n",
      "   [4 3 4]]\n",
      "\n",
      "  [[4 3 2]\n",
      "   [4 2 3]\n",
      "   [3 4 4]]\n",
      "\n",
      "  [[3 2 1]\n",
      "   [2 3 3]\n",
      "   [4 4 2]]\n",
      "\n",
      "  [[2 1 2]\n",
      "   [3 3 3]\n",
      "   [4 2 1]]\n",
      "\n",
      "  [[1 2 2]\n",
      "   [3 3 1]\n",
      "   [2 1 3]]\n",
      "\n",
      "  [[2 2 4]\n",
      "   [3 1 2]\n",
      "   [1 3 1]]]\n",
      "\n",
      "\n",
      " [[[2 3 2]\n",
      "   [2 3 4]\n",
      "   [4 4 4]]\n",
      "\n",
      "  [[3 2 4]\n",
      "   [3 4 3]\n",
      "   [4 4 4]]\n",
      "\n",
      "  [[2 4 2]\n",
      "   [4 3 4]\n",
      "   [4 4 2]]\n",
      "\n",
      "  [[4 2 3]\n",
      "   [3 4 4]\n",
      "   [4 2 4]]\n",
      "\n",
      "  [[2 3 3]\n",
      "   [4 4 2]\n",
      "   [2 4 4]]\n",
      "\n",
      "  [[3 3 3]\n",
      "   [4 2 1]\n",
      "   [4 4 4]]\n",
      "\n",
      "  [[3 3 1]\n",
      "   [2 1 3]\n",
      "   [4 4 3]]\n",
      "\n",
      "  [[3 1 2]\n",
      "   [1 3 1]\n",
      "   [4 3 2]]]\n",
      "\n",
      "\n",
      " [[[2 3 4]\n",
      "   [4 4 4]\n",
      "   [4 1 2]]\n",
      "\n",
      "  [[3 4 3]\n",
      "   [4 4 4]\n",
      "   [1 2 4]]\n",
      "\n",
      "  [[4 3 4]\n",
      "   [4 4 2]\n",
      "   [2 4 4]]\n",
      "\n",
      "  [[3 4 4]\n",
      "   [4 2 4]\n",
      "   [4 4 3]]\n",
      "\n",
      "  [[4 4 2]\n",
      "   [2 4 4]\n",
      "   [4 3 3]]\n",
      "\n",
      "  [[4 2 1]\n",
      "   [4 4 4]\n",
      "   [3 3 2]]\n",
      "\n",
      "  [[2 1 3]\n",
      "   [4 4 3]\n",
      "   [3 2 2]]\n",
      "\n",
      "  [[1 3 1]\n",
      "   [4 3 2]\n",
      "   [2 2 2]]]]\n"
     ]
    }
   ],
   "source": [
    "from numpy.lib import stride_tricks\n",
    "\n",
    "matrix = np.random.randint(1, 5, (10, 10))\n",
    "print(matrix)\n",
    "\n",
    "n = 3\n",
    "i = 1 + (matrix.shape[0]-3)\n",
    "j = 1 + (matrix.shape[1]-3)\n",
    "C = stride_tricks.as_strided(matrix, shape=(i, j, n, n), strides=matrix.strides + matrix.strides)\n",
    "print(C)\n"
   ]
  },
  {
   "cell_type": "markdown",
   "id": "845ad7f8",
   "metadata": {},
   "source": [
    "#### 85. Create a 2D array subclass such that Z[i,j] == Z[j,i] (★★★)"
   ]
  },
  {
   "cell_type": "code",
   "execution_count": null,
   "id": "30b1ba71",
   "metadata": {},
   "outputs": [],
   "source": []
  },
  {
   "cell_type": "markdown",
   "id": "adc48f02",
   "metadata": {},
   "source": [
    "#### 86. Consider a set of p matrices with shape (n,n) and a set of p vectors with shape (n,1). How to compute the sum of of the p matrix products at once? (result has shape (n,1)) (★★★)"
   ]
  },
  {
   "cell_type": "code",
   "execution_count": null,
   "id": "ec798e90",
   "metadata": {},
   "outputs": [],
   "source": []
  },
  {
   "cell_type": "markdown",
   "id": "9efb34b2",
   "metadata": {},
   "source": [
    "#### 87. Consider a 16x16 array, how to get the block-sum (block size is 4x4)? (★★★)"
   ]
  },
  {
   "cell_type": "code",
   "execution_count": null,
   "id": "ea79f40b",
   "metadata": {},
   "outputs": [],
   "source": []
  },
  {
   "cell_type": "markdown",
   "id": "a9368578",
   "metadata": {},
   "source": [
    "#### 88. How to implement the Game of Life using numpy arrays? (★★★)"
   ]
  },
  {
   "cell_type": "code",
   "execution_count": null,
   "id": "315e9f11",
   "metadata": {},
   "outputs": [],
   "source": []
  },
  {
   "cell_type": "markdown",
   "id": "8c598af3",
   "metadata": {},
   "source": [
    "#### 89. How to get the n largest values of an array (★★★)"
   ]
  },
  {
   "cell_type": "code",
   "execution_count": null,
   "id": "cba8d433",
   "metadata": {},
   "outputs": [],
   "source": []
  },
  {
   "cell_type": "markdown",
   "id": "036a3bb0",
   "metadata": {},
   "source": [
    "#### 90. Given an arbitrary number of vectors, build the cartesian product (every combination of every item) (★★★)"
   ]
  },
  {
   "cell_type": "code",
   "execution_count": null,
   "id": "d712972d",
   "metadata": {},
   "outputs": [],
   "source": []
  },
  {
   "cell_type": "markdown",
   "id": "36487aab",
   "metadata": {},
   "source": [
    "#### 91. How to create a record array from a regular array? (★★★)"
   ]
  },
  {
   "cell_type": "code",
   "execution_count": null,
   "id": "9779dbac",
   "metadata": {},
   "outputs": [],
   "source": []
  },
  {
   "cell_type": "markdown",
   "id": "9f178562",
   "metadata": {},
   "source": [
    "#### 92. Consider a large vector Z, compute Z to the power of 3 using 3 different methods (★★★)"
   ]
  },
  {
   "cell_type": "code",
   "execution_count": null,
   "id": "b08000b8",
   "metadata": {},
   "outputs": [],
   "source": []
  },
  {
   "cell_type": "markdown",
   "id": "86acaf60",
   "metadata": {},
   "source": [
    "#### 93. Consider two arrays A and B of shape (8,3) and (2,2). How to find rows of A that contain elements of each row of B regardless of the order of the elements in B? (★★★)"
   ]
  },
  {
   "cell_type": "code",
   "execution_count": null,
   "id": "793b26d4",
   "metadata": {},
   "outputs": [],
   "source": []
  },
  {
   "cell_type": "markdown",
   "id": "c71b9df2",
   "metadata": {},
   "source": [
    "#### 94. Considering a 10x3 matrix, extract rows with unequal values (e.g. [2,2,3]) (★★★)"
   ]
  },
  {
   "cell_type": "code",
   "execution_count": null,
   "id": "494069f0",
   "metadata": {},
   "outputs": [],
   "source": []
  },
  {
   "cell_type": "markdown",
   "id": "1a8ae7c1",
   "metadata": {},
   "source": [
    "#### 95. Convert a vector of ints into a matrix binary representation (★★★)"
   ]
  },
  {
   "cell_type": "code",
   "execution_count": null,
   "id": "d5e967b8",
   "metadata": {},
   "outputs": [],
   "source": []
  },
  {
   "cell_type": "markdown",
   "id": "edef1198",
   "metadata": {},
   "source": [
    "#### 96. Given a two dimensional array, how to extract unique rows? (★★★)"
   ]
  },
  {
   "cell_type": "code",
   "execution_count": null,
   "id": "fa14799b",
   "metadata": {},
   "outputs": [],
   "source": []
  },
  {
   "cell_type": "markdown",
   "id": "575598a1",
   "metadata": {},
   "source": [
    "#### 97. Considering 2 vectors A & B, write the einsum equivalent of inner, outer, sum, and mul function (★★★)"
   ]
  },
  {
   "cell_type": "code",
   "execution_count": null,
   "id": "9da72f6e",
   "metadata": {},
   "outputs": [],
   "source": []
  },
  {
   "cell_type": "markdown",
   "id": "88e2796a",
   "metadata": {},
   "source": [
    "#### 98. Considering a path described by two vectors (X,Y), how to sample it using equidistant samples (★★★)?"
   ]
  },
  {
   "cell_type": "code",
   "execution_count": null,
   "id": "c17314f8",
   "metadata": {},
   "outputs": [],
   "source": []
  },
  {
   "cell_type": "markdown",
   "id": "8b25b7bd",
   "metadata": {},
   "source": [
    "#### 99. Given an integer n and a 2D array X, select from X the rows which can be interpreted as draws from a multinomial distribution with n degrees, i.e., the rows which only contain integers and which sum to n. (★★★)"
   ]
  },
  {
   "cell_type": "code",
   "execution_count": null,
   "id": "f0dc48cd",
   "metadata": {},
   "outputs": [],
   "source": []
  },
  {
   "cell_type": "markdown",
   "id": "b7068c76",
   "metadata": {},
   "source": [
    "#### 100. Compute bootstrapped 95% confidence intervals for the mean of a 1D array X (i.e., resample the elements of an array with replacement N times, compute the mean of each sample, and then compute percentiles over the means). (★★★)"
   ]
  },
  {
   "cell_type": "code",
   "execution_count": null,
   "id": "3c234201",
   "metadata": {},
   "outputs": [],
   "source": []
  }
 ],
 "metadata": {
  "kernelspec": {
   "display_name": "learn_numpy",
   "language": "python",
   "name": "python3"
  },
  "language_info": {
   "codemirror_mode": {
    "name": "ipython",
    "version": 3
   },
   "file_extension": ".py",
   "mimetype": "text/x-python",
   "name": "python",
   "nbconvert_exporter": "python",
   "pygments_lexer": "ipython3",
   "version": "3.12.11"
  }
 },
 "nbformat": 4,
 "nbformat_minor": 5
}
